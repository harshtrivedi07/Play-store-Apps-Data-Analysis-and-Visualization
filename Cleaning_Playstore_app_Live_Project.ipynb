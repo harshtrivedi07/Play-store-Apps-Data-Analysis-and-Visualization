{
 "cells": [
  {
   "cell_type": "code",
   "execution_count": 1079,
   "id": "a4964e54",
   "metadata": {},
   "outputs": [
    {
     "data": {
      "text/html": [
       "<div>\n",
       "<style scoped>\n",
       "    .dataframe tbody tr th:only-of-type {\n",
       "        vertical-align: middle;\n",
       "    }\n",
       "\n",
       "    .dataframe tbody tr th {\n",
       "        vertical-align: top;\n",
       "    }\n",
       "\n",
       "    .dataframe thead th {\n",
       "        text-align: right;\n",
       "    }\n",
       "</style>\n",
       "<table border=\"1\" class=\"dataframe\">\n",
       "  <thead>\n",
       "    <tr style=\"text-align: right;\">\n",
       "      <th></th>\n",
       "      <th>App</th>\n",
       "      <th>Category</th>\n",
       "      <th>Rating</th>\n",
       "      <th>Reviews</th>\n",
       "      <th>Size</th>\n",
       "      <th>Installs</th>\n",
       "      <th>Type</th>\n",
       "      <th>Price</th>\n",
       "      <th>Content Rating</th>\n",
       "      <th>Genres</th>\n",
       "      <th>Last Updated</th>\n",
       "      <th>Current Ver</th>\n",
       "      <th>Android Ver</th>\n",
       "    </tr>\n",
       "  </thead>\n",
       "  <tbody>\n",
       "    <tr>\n",
       "      <th>0</th>\n",
       "      <td>Photo Editor &amp; Candy Camera &amp; Grid &amp; ScrapBook</td>\n",
       "      <td>ART_AND_DESIGN</td>\n",
       "      <td>4.1</td>\n",
       "      <td>159.0</td>\n",
       "      <td>19M</td>\n",
       "      <td>10000.0</td>\n",
       "      <td>Free</td>\n",
       "      <td>0.0</td>\n",
       "      <td>Everyone</td>\n",
       "      <td>Art &amp; Design</td>\n",
       "      <td>07-01-2018</td>\n",
       "      <td>1.0.0</td>\n",
       "      <td>4.0.3 and up</td>\n",
       "    </tr>\n",
       "    <tr>\n",
       "      <th>1</th>\n",
       "      <td>Coloring book moana</td>\n",
       "      <td>ART_AND_DESIGN</td>\n",
       "      <td>3.9</td>\n",
       "      <td>967.0</td>\n",
       "      <td>14M</td>\n",
       "      <td>500000.0</td>\n",
       "      <td>Free</td>\n",
       "      <td>0.0</td>\n",
       "      <td>Everyone</td>\n",
       "      <td>Art &amp; Design;Pretend Play</td>\n",
       "      <td>15-01-2018</td>\n",
       "      <td>2.0.0</td>\n",
       "      <td>4.0.3 and up</td>\n",
       "    </tr>\n",
       "    <tr>\n",
       "      <th>2</th>\n",
       "      <td>U Launcher Lite – FREE Live Cool Themes, Hide ...</td>\n",
       "      <td>ART_AND_DESIGN</td>\n",
       "      <td>4.7</td>\n",
       "      <td>87510.0</td>\n",
       "      <td>8.7M</td>\n",
       "      <td>5000000.0</td>\n",
       "      <td>Free</td>\n",
       "      <td>0.0</td>\n",
       "      <td>Everyone</td>\n",
       "      <td>Art &amp; Design</td>\n",
       "      <td>01-08-2018</td>\n",
       "      <td>1.2.4</td>\n",
       "      <td>4.0.3 and up</td>\n",
       "    </tr>\n",
       "    <tr>\n",
       "      <th>3</th>\n",
       "      <td>Sketch - Draw &amp; Paint</td>\n",
       "      <td>ART_AND_DESIGN</td>\n",
       "      <td>4.5</td>\n",
       "      <td>215644.0</td>\n",
       "      <td>25M</td>\n",
       "      <td>50000000.0</td>\n",
       "      <td>Free</td>\n",
       "      <td>0.0</td>\n",
       "      <td>Teen</td>\n",
       "      <td>Art &amp; Design</td>\n",
       "      <td>08-06-2018</td>\n",
       "      <td>Varies with device</td>\n",
       "      <td>4.2 and up</td>\n",
       "    </tr>\n",
       "    <tr>\n",
       "      <th>4</th>\n",
       "      <td>Pixel Draw - Number Art Coloring Book</td>\n",
       "      <td>ART_AND_DESIGN</td>\n",
       "      <td>4.3</td>\n",
       "      <td>967.0</td>\n",
       "      <td>2.8M</td>\n",
       "      <td>100000.0</td>\n",
       "      <td>Free</td>\n",
       "      <td>0.0</td>\n",
       "      <td>Everyone</td>\n",
       "      <td>Art &amp; Design;Creativity</td>\n",
       "      <td>20-06-2018</td>\n",
       "      <td>1.1</td>\n",
       "      <td>4.4 and up</td>\n",
       "    </tr>\n",
       "    <tr>\n",
       "      <th>...</th>\n",
       "      <td>...</td>\n",
       "      <td>...</td>\n",
       "      <td>...</td>\n",
       "      <td>...</td>\n",
       "      <td>...</td>\n",
       "      <td>...</td>\n",
       "      <td>...</td>\n",
       "      <td>...</td>\n",
       "      <td>...</td>\n",
       "      <td>...</td>\n",
       "      <td>...</td>\n",
       "      <td>...</td>\n",
       "      <td>...</td>\n",
       "    </tr>\n",
       "    <tr>\n",
       "      <th>10836</th>\n",
       "      <td>Sya9a Maroc - FR</td>\n",
       "      <td>FAMILY</td>\n",
       "      <td>4.5</td>\n",
       "      <td>38.0</td>\n",
       "      <td>53M</td>\n",
       "      <td>5000.0</td>\n",
       "      <td>Free</td>\n",
       "      <td>0.0</td>\n",
       "      <td>Everyone</td>\n",
       "      <td>Education</td>\n",
       "      <td>25-07-2017</td>\n",
       "      <td>1.48</td>\n",
       "      <td>4.1 and up</td>\n",
       "    </tr>\n",
       "    <tr>\n",
       "      <th>10837</th>\n",
       "      <td>Fr. Mike Schmitz Audio Teachings</td>\n",
       "      <td>FAMILY</td>\n",
       "      <td>5.0</td>\n",
       "      <td>4.0</td>\n",
       "      <td>3.6M</td>\n",
       "      <td>100.0</td>\n",
       "      <td>Free</td>\n",
       "      <td>0.0</td>\n",
       "      <td>Everyone</td>\n",
       "      <td>Education</td>\n",
       "      <td>06-07-2018</td>\n",
       "      <td>1</td>\n",
       "      <td>4.1 and up</td>\n",
       "    </tr>\n",
       "    <tr>\n",
       "      <th>10838</th>\n",
       "      <td>Parkinson Exercices FR</td>\n",
       "      <td>MEDICAL</td>\n",
       "      <td>NaN</td>\n",
       "      <td>3.0</td>\n",
       "      <td>9.5M</td>\n",
       "      <td>1000.0</td>\n",
       "      <td>Free</td>\n",
       "      <td>0.0</td>\n",
       "      <td>Everyone</td>\n",
       "      <td>Medical</td>\n",
       "      <td>20-01-2017</td>\n",
       "      <td>1</td>\n",
       "      <td>2.2 and up</td>\n",
       "    </tr>\n",
       "    <tr>\n",
       "      <th>10839</th>\n",
       "      <td>The SCP Foundation DB fr nn5n</td>\n",
       "      <td>BOOKS_AND_REFERENCE</td>\n",
       "      <td>4.5</td>\n",
       "      <td>114.0</td>\n",
       "      <td>Varies with device</td>\n",
       "      <td>1000.0</td>\n",
       "      <td>Free</td>\n",
       "      <td>0.0</td>\n",
       "      <td>Mature 17+</td>\n",
       "      <td>Books &amp; Reference</td>\n",
       "      <td>19-01-2015</td>\n",
       "      <td>Varies with device</td>\n",
       "      <td>Varies with device</td>\n",
       "    </tr>\n",
       "    <tr>\n",
       "      <th>10840</th>\n",
       "      <td>iHoroscope - 2018 Daily Horoscope &amp; Astrology</td>\n",
       "      <td>LIFESTYLE</td>\n",
       "      <td>4.5</td>\n",
       "      <td>398307.0</td>\n",
       "      <td>19M</td>\n",
       "      <td>10000000.0</td>\n",
       "      <td>Free</td>\n",
       "      <td>0.0</td>\n",
       "      <td>Everyone</td>\n",
       "      <td>Lifestyle</td>\n",
       "      <td>25-07-2018</td>\n",
       "      <td>Varies with device</td>\n",
       "      <td>Varies with device</td>\n",
       "    </tr>\n",
       "  </tbody>\n",
       "</table>\n",
       "<p>10841 rows × 13 columns</p>\n",
       "</div>"
      ],
      "text/plain": [
       "                                                     App             Category  \\\n",
       "0         Photo Editor & Candy Camera & Grid & ScrapBook       ART_AND_DESIGN   \n",
       "1                                    Coloring book moana       ART_AND_DESIGN   \n",
       "2      U Launcher Lite – FREE Live Cool Themes, Hide ...       ART_AND_DESIGN   \n",
       "3                                  Sketch - Draw & Paint       ART_AND_DESIGN   \n",
       "4                  Pixel Draw - Number Art Coloring Book       ART_AND_DESIGN   \n",
       "...                                                  ...                  ...   \n",
       "10836                                   Sya9a Maroc - FR               FAMILY   \n",
       "10837                   Fr. Mike Schmitz Audio Teachings               FAMILY   \n",
       "10838                             Parkinson Exercices FR              MEDICAL   \n",
       "10839                      The SCP Foundation DB fr nn5n  BOOKS_AND_REFERENCE   \n",
       "10840      iHoroscope - 2018 Daily Horoscope & Astrology            LIFESTYLE   \n",
       "\n",
       "       Rating   Reviews                Size    Installs  Type  Price  \\\n",
       "0         4.1     159.0                 19M     10000.0  Free    0.0   \n",
       "1         3.9     967.0                 14M    500000.0  Free    0.0   \n",
       "2         4.7   87510.0                8.7M   5000000.0  Free    0.0   \n",
       "3         4.5  215644.0                 25M  50000000.0  Free    0.0   \n",
       "4         4.3     967.0                2.8M    100000.0  Free    0.0   \n",
       "...       ...       ...                 ...         ...   ...    ...   \n",
       "10836     4.5      38.0                 53M      5000.0  Free    0.0   \n",
       "10837     5.0       4.0                3.6M       100.0  Free    0.0   \n",
       "10838     NaN       3.0                9.5M      1000.0  Free    0.0   \n",
       "10839     4.5     114.0  Varies with device      1000.0  Free    0.0   \n",
       "10840     4.5  398307.0                 19M  10000000.0  Free    0.0   \n",
       "\n",
       "      Content Rating                     Genres Last Updated  \\\n",
       "0           Everyone               Art & Design   07-01-2018   \n",
       "1           Everyone  Art & Design;Pretend Play   15-01-2018   \n",
       "2           Everyone               Art & Design   01-08-2018   \n",
       "3               Teen               Art & Design   08-06-2018   \n",
       "4           Everyone    Art & Design;Creativity   20-06-2018   \n",
       "...              ...                        ...          ...   \n",
       "10836       Everyone                  Education   25-07-2017   \n",
       "10837       Everyone                  Education   06-07-2018   \n",
       "10838       Everyone                    Medical   20-01-2017   \n",
       "10839     Mature 17+          Books & Reference   19-01-2015   \n",
       "10840       Everyone                  Lifestyle   25-07-2018   \n",
       "\n",
       "              Current Ver         Android Ver  \n",
       "0                   1.0.0        4.0.3 and up  \n",
       "1                   2.0.0        4.0.3 and up  \n",
       "2                   1.2.4        4.0.3 and up  \n",
       "3      Varies with device          4.2 and up  \n",
       "4                     1.1          4.4 and up  \n",
       "...                   ...                 ...  \n",
       "10836                1.48          4.1 and up  \n",
       "10837                   1          4.1 and up  \n",
       "10838                   1          2.2 and up  \n",
       "10839  Varies with device  Varies with device  \n",
       "10840  Varies with device  Varies with device  \n",
       "\n",
       "[10841 rows x 13 columns]"
      ]
     },
     "execution_count": 1079,
     "metadata": {},
     "output_type": "execute_result"
    }
   ],
   "source": [
    "#Importing libraries and file\n",
    "\n",
    "import pandas as pd\n",
    "import numpy as np\n",
    "from numpy import nan\n",
    "# import re\n",
    "\n",
    "play=pd.read_csv(\"D:\\playstore_Live_Project\\playstoreliveproj\\playstore_apps.csv\")\n",
    "play"
   ]
  },
  {
   "cell_type": "markdown",
   "id": "37b97e3a",
   "metadata": {},
   "source": [
    "# Removing Duplicates Values from the dataset"
   ]
  },
  {
   "cell_type": "code",
   "execution_count": 1080,
   "id": "9ea29f3d",
   "metadata": {
    "scrolled": true
   },
   "outputs": [
    {
     "name": "stdout",
     "output_type": "stream",
     "text": [
      "<class 'pandas.core.frame.DataFrame'>\n",
      "Int64Index: 10358 entries, 0 to 10840\n",
      "Data columns (total 13 columns):\n",
      " #   Column          Non-Null Count  Dtype  \n",
      "---  ------          --------------  -----  \n",
      " 0   App             10358 non-null  object \n",
      " 1   Category        10358 non-null  object \n",
      " 2   Rating          8893 non-null   float64\n",
      " 3   Reviews         10357 non-null  float64\n",
      " 4   Size            10358 non-null  object \n",
      " 5   Installs        10357 non-null  float64\n",
      " 6   Type            10357 non-null  object \n",
      " 7   Price           10357 non-null  float64\n",
      " 8   Content Rating  10357 non-null  object \n",
      " 9   Genres          10358 non-null  object \n",
      " 10  Last Updated    10357 non-null  object \n",
      " 11  Current Ver     10350 non-null  object \n",
      " 12  Android Ver     10355 non-null  object \n",
      "dtypes: float64(4), object(9)\n",
      "memory usage: 1.1+ MB\n"
     ]
    },
    {
     "data": {
      "text/plain": [
       "(10358, 13)"
      ]
     },
     "execution_count": 1080,
     "metadata": {},
     "output_type": "execute_result"
    }
   ],
   "source": [
    "play.drop_duplicates(subset=None,keep=\"first\", inplace=True, ignore_index=False)\n",
    "play.info()\n",
    "play.shape"
   ]
  },
  {
   "cell_type": "code",
   "execution_count": 1081,
   "id": "63a40239",
   "metadata": {},
   "outputs": [
    {
     "name": "stdout",
     "output_type": "stream",
     "text": [
      "App               9660\n",
      "Category            34\n",
      "Rating              40\n",
      "Reviews           6001\n",
      "Size               462\n",
      "Installs            20\n",
      "Type                 3\n",
      "Price               92\n",
      "Content Rating       6\n",
      "Genres             120\n",
      "Last Updated      1377\n",
      "Current Ver       2784\n",
      "Android Ver         33\n",
      "dtype: int64\n"
     ]
    }
   ],
   "source": [
    "#Lets Check unique values\n",
    "print(play.nunique())"
   ]
  },
  {
   "cell_type": "code",
   "execution_count": 1082,
   "id": "d2103a73",
   "metadata": {},
   "outputs": [
    {
     "name": "stdout",
     "output_type": "stream",
     "text": [
      "['Photo Editor & Candy Camera & Grid & ScrapBook' 'Coloring book moana'\n",
      " 'U Launcher Lite – FREE Live Cool Themes, Hide Apps' ...\n",
      " 'Parkinson Exercices FR' 'The SCP Foundation DB fr nn5n'\n",
      " 'iHoroscope - 2018 Daily Horoscope & Astrology']\n",
      "0\n"
     ]
    }
   ],
   "source": [
    "#Cleaning App column\n",
    "print(play[\"App\"].unique())\n",
    "print(play[\"App\"].isnull().sum())\n",
    "# play.drop_duplicates(subset=['App'])\n",
    "# print(play['App'].nunique())"
   ]
  },
  {
   "cell_type": "markdown",
   "id": "68c1f534",
   "metadata": {},
   "source": [
    "#  Removing some special characters from the app names"
   ]
  },
  {
   "cell_type": "code",
   "execution_count": 1083,
   "id": "f71cc9e2",
   "metadata": {},
   "outputs": [
    {
     "name": "stderr",
     "output_type": "stream",
     "text": [
      "C:\\Users\\harsh\\AppData\\Local\\Temp/ipykernel_17564/4254302581.py:2: FutureWarning: The default value of regex will change from True to False in a future version.\n",
      "  play['App'] = play['App'].str.replace(r\"\\?\",\"\")\n",
      "C:\\Users\\harsh\\AppData\\Local\\Temp/ipykernel_17564/4254302581.py:5: FutureWarning: The default value of regex will change from True to False in a future version. In addition, single character regular expressions will *not* be treated as literal strings when regex=True.\n",
      "  play['App'] = play['App'].str.replace(r\"^\",\"\")\n",
      "C:\\Users\\harsh\\AppData\\Local\\Temp/ipykernel_17564/4254302581.py:7: FutureWarning: The default value of regex will change from True to False in a future version. In addition, single character regular expressions will *not* be treated as literal strings when regex=True.\n",
      "  play['App'] = play['App'].str.replace(r\"]\",\"\")\n",
      "C:\\Users\\harsh\\AppData\\Local\\Temp/ipykernel_17564/4254302581.py:8: FutureWarning: The default value of regex will change from True to False in a future version. In addition, single character regular expressions will *not* be treated as literal strings when regex=True.\n",
      "  play['App'] = play['App'].str.replace(r\"[\",\"\")\n",
      "C:\\Users\\harsh\\AppData\\Local\\Temp/ipykernel_17564/4254302581.py:9: FutureWarning: The default value of regex will change from True to False in a future version. In addition, single character regular expressions will *not* be treated as literal strings when regex=True.\n",
      "  play['App'] = play['App'].str.replace(r\"(\",\"\")\n",
      "C:\\Users\\harsh\\AppData\\Local\\Temp/ipykernel_17564/4254302581.py:10: FutureWarning: The default value of regex will change from True to False in a future version. In addition, single character regular expressions will *not* be treated as literal strings when regex=True.\n",
      "  play['App'] = play['App'].str.replace(r\")\",\"\")\n",
      "C:\\Users\\harsh\\AppData\\Local\\Temp/ipykernel_17564/4254302581.py:11: FutureWarning: The default value of regex will change from True to False in a future version. In addition, single character regular expressions will *not* be treated as literal strings when regex=True.\n",
      "  play['App'] = play['App'].str.replace(r\"|\",\"\")\n",
      "C:\\Users\\harsh\\AppData\\Local\\Temp/ipykernel_17564/4254302581.py:15: FutureWarning: The default value of regex will change from True to False in a future version.\n",
      "  play['App'] = play['App'].str.replace(r\"\\â€“\",\"\")\n"
     ]
    },
    {
     "data": {
      "text/html": [
       "<div>\n",
       "<style scoped>\n",
       "    .dataframe tbody tr th:only-of-type {\n",
       "        vertical-align: middle;\n",
       "    }\n",
       "\n",
       "    .dataframe tbody tr th {\n",
       "        vertical-align: top;\n",
       "    }\n",
       "\n",
       "    .dataframe thead th {\n",
       "        text-align: right;\n",
       "    }\n",
       "</style>\n",
       "<table border=\"1\" class=\"dataframe\">\n",
       "  <thead>\n",
       "    <tr style=\"text-align: right;\">\n",
       "      <th></th>\n",
       "      <th>App</th>\n",
       "      <th>Category</th>\n",
       "      <th>Rating</th>\n",
       "      <th>Reviews</th>\n",
       "      <th>Size</th>\n",
       "      <th>Installs</th>\n",
       "      <th>Type</th>\n",
       "      <th>Price</th>\n",
       "      <th>Content Rating</th>\n",
       "      <th>Genres</th>\n",
       "      <th>Last Updated</th>\n",
       "      <th>Current Ver</th>\n",
       "      <th>Android Ver</th>\n",
       "    </tr>\n",
       "  </thead>\n",
       "  <tbody>\n",
       "    <tr>\n",
       "      <th>4636</th>\n",
       "      <td>uapp</td>\n",
       "      <td>COMMUNICATION</td>\n",
       "      <td>4.7</td>\n",
       "      <td>573.0</td>\n",
       "      <td>53M</td>\n",
       "      <td>10000.0</td>\n",
       "      <td>Free</td>\n",
       "      <td>0.0</td>\n",
       "      <td>Mature 17+</td>\n",
       "      <td>Communication</td>\n",
       "      <td>03-07-2018</td>\n",
       "      <td>4.2.4</td>\n",
       "      <td>4.1 and up</td>\n",
       "    </tr>\n",
       "  </tbody>\n",
       "</table>\n",
       "</div>"
      ],
      "text/plain": [
       "       App       Category  Rating  Reviews Size  Installs  Type  Price  \\\n",
       "4636  uapp  COMMUNICATION     4.7    573.0  53M   10000.0  Free    0.0   \n",
       "\n",
       "     Content Rating         Genres Last Updated Current Ver Android Ver  \n",
       "4636     Mature 17+  Communication   03-07-2018       4.2.4  4.1 and up  "
      ]
     },
     "execution_count": 1083,
     "metadata": {},
     "output_type": "execute_result"
    }
   ],
   "source": [
    "#Removing some special characters from the App column\n",
    "play['App'] = play['App'].str.replace(r\"\\?\",\"\")\n",
    "play['App'] = play['App'].str.replace(r\"/\",\"\")\n",
    "play['App'] = play['App'].str.replace(r\":\",\"\")\n",
    "play['App'] = play['App'].str.replace(r\"^\",\"\")\n",
    "play['App'] = play['App'].str.replace(r\"%\",\"\")\n",
    "play['App'] = play['App'].str.replace(r\"]\",\"\")\n",
    "play['App'] = play['App'].str.replace(r\"[\",\"\")\n",
    "play['App'] = play['App'].str.replace(r\"(\",\"\")\n",
    "play['App'] = play['App'].str.replace(r\")\",\"\")\n",
    "play['App'] = play['App'].str.replace(r\"|\",\"\")\n",
    "play['App'] = play['App'].str.replace(r\"-\",\"\")\n",
    "play['App'] = play['App'].str.replace(r\"#\",\"\")\n",
    "play['App'] = play['App'].str.replace(r\"!\",\"\")\n",
    "play['App'] = play['App'].str.replace(r\"\\â€“\",\"\")\n",
    "play['App'] = play['App'].str.replace(r\"Ã£\",\"\")\n",
    "play['App'] = play['App'].str.replace(r\"â\",\"a\")\n",
    "play['App'] = play['App'].str.replace(r\"„¢\",\"\")\n",
    "play['App'] = play['App'].str.replace(r\"Itâ€™s\",\"\")\n",
    "play['App'] = play['App'].str.replace(r\"Â®\",\"\")\n",
    "play['App'] = play['App'].str.replace(r\"Â·\",\"\")\n",
    "play['App'] = play['App'].str.replace(r\"â„¢\",\"\")\n",
    "play['App'] = play['App'].str.replace(r\"'\",\"\")\n",
    "play['App'] = play['App'].str.replace(r\"K@\",\"\")\n",
    "play['App'] = play['App'].str.replace(r\"FÃ¼\",\"\")\n",
    "#Lets check one of the app name\n",
    "play.loc[play['App']== \"uapp\"]\n"
   ]
  },
  {
   "cell_type": "code",
   "execution_count": 1084,
   "id": "530db09f",
   "metadata": {},
   "outputs": [
    {
     "data": {
      "text/html": [
       "<div>\n",
       "<style scoped>\n",
       "    .dataframe tbody tr th:only-of-type {\n",
       "        vertical-align: middle;\n",
       "    }\n",
       "\n",
       "    .dataframe tbody tr th {\n",
       "        vertical-align: top;\n",
       "    }\n",
       "\n",
       "    .dataframe thead th {\n",
       "        text-align: right;\n",
       "    }\n",
       "</style>\n",
       "<table border=\"1\" class=\"dataframe\">\n",
       "  <thead>\n",
       "    <tr style=\"text-align: right;\">\n",
       "      <th></th>\n",
       "      <th>App</th>\n",
       "      <th>Category</th>\n",
       "      <th>Rating</th>\n",
       "      <th>Reviews</th>\n",
       "      <th>Size</th>\n",
       "      <th>Installs</th>\n",
       "      <th>Type</th>\n",
       "      <th>Price</th>\n",
       "      <th>Content Rating</th>\n",
       "      <th>Genres</th>\n",
       "      <th>Last Updated</th>\n",
       "      <th>Current Ver</th>\n",
       "      <th>Android Ver</th>\n",
       "    </tr>\n",
       "  </thead>\n",
       "  <tbody>\n",
       "    <tr>\n",
       "      <th>3750</th>\n",
       "      <td></td>\n",
       "      <td>NEWS_AND_MAGAZINES</td>\n",
       "      <td>4.5</td>\n",
       "      <td>44274.0</td>\n",
       "      <td>8.0M</td>\n",
       "      <td>1000000.0</td>\n",
       "      <td>Free</td>\n",
       "      <td>0.0</td>\n",
       "      <td>Everyone</td>\n",
       "      <td>News &amp; Magazines</td>\n",
       "      <td>06-08-2018</td>\n",
       "      <td>4.0.6</td>\n",
       "      <td>4.4 and up</td>\n",
       "    </tr>\n",
       "  </tbody>\n",
       "</table>\n",
       "</div>"
      ],
      "text/plain": [
       "     App            Category  Rating  Reviews  Size   Installs  Type  Price  \\\n",
       "3750      NEWS_AND_MAGAZINES     4.5  44274.0  8.0M  1000000.0  Free    0.0   \n",
       "\n",
       "     Content Rating            Genres Last Updated Current Ver Android Ver  \n",
       "3750       Everyone  News & Magazines   06-08-2018       4.0.6  4.4 and up  "
      ]
     },
     "execution_count": 1084,
     "metadata": {},
     "output_type": "execute_result"
    }
   ],
   "source": [
    "play.loc[play['App']== \" \"]"
   ]
  },
  {
   "cell_type": "code",
   "execution_count": 1085,
   "id": "9ceb951e",
   "metadata": {},
   "outputs": [
    {
     "data": {
      "text/html": [
       "<div>\n",
       "<style scoped>\n",
       "    .dataframe tbody tr th:only-of-type {\n",
       "        vertical-align: middle;\n",
       "    }\n",
       "\n",
       "    .dataframe tbody tr th {\n",
       "        vertical-align: top;\n",
       "    }\n",
       "\n",
       "    .dataframe thead th {\n",
       "        text-align: right;\n",
       "    }\n",
       "</style>\n",
       "<table border=\"1\" class=\"dataframe\">\n",
       "  <thead>\n",
       "    <tr style=\"text-align: right;\">\n",
       "      <th></th>\n",
       "      <th>App</th>\n",
       "      <th>Category</th>\n",
       "      <th>Rating</th>\n",
       "      <th>Reviews</th>\n",
       "      <th>Size</th>\n",
       "      <th>Installs</th>\n",
       "      <th>Type</th>\n",
       "      <th>Price</th>\n",
       "      <th>Content Rating</th>\n",
       "      <th>Genres</th>\n",
       "      <th>Last Updated</th>\n",
       "      <th>Current Ver</th>\n",
       "      <th>Android Ver</th>\n",
       "    </tr>\n",
       "  </thead>\n",
       "  <tbody>\n",
       "    <tr>\n",
       "      <th>85</th>\n",
       "      <td>CarMax – Cars for Sale Search Used Car Inventory</td>\n",
       "      <td>AUTO_AND_VEHICLES</td>\n",
       "      <td>4.4</td>\n",
       "      <td>21777.0</td>\n",
       "      <td>Varies with device</td>\n",
       "      <td>1000000.0</td>\n",
       "      <td>Free</td>\n",
       "      <td>0.0</td>\n",
       "      <td>Everyone</td>\n",
       "      <td>Auto &amp; Vehicles</td>\n",
       "      <td>04-08-2018</td>\n",
       "      <td>Varies with device</td>\n",
       "      <td>Varies with device</td>\n",
       "    </tr>\n",
       "  </tbody>\n",
       "</table>\n",
       "</div>"
      ],
      "text/plain": [
       "                                                 App           Category  \\\n",
       "85  CarMax – Cars for Sale Search Used Car Inventory  AUTO_AND_VEHICLES   \n",
       "\n",
       "    Rating  Reviews                Size   Installs  Type  Price  \\\n",
       "85     4.4  21777.0  Varies with device  1000000.0  Free    0.0   \n",
       "\n",
       "   Content Rating           Genres Last Updated         Current Ver  \\\n",
       "85       Everyone  Auto & Vehicles   04-08-2018  Varies with device   \n",
       "\n",
       "           Android Ver  \n",
       "85  Varies with device  "
      ]
     },
     "execution_count": 1085,
     "metadata": {},
     "output_type": "execute_result"
    }
   ],
   "source": [
    "#As we have removed some special characters,now we need to check blank values\n",
    "play.loc[play['Reviews']== 21777]"
   ]
  },
  {
   "cell_type": "code",
   "execution_count": 1086,
   "id": "678e632d",
   "metadata": {},
   "outputs": [
    {
     "data": {
      "text/html": [
       "<div>\n",
       "<style scoped>\n",
       "    .dataframe tbody tr th:only-of-type {\n",
       "        vertical-align: middle;\n",
       "    }\n",
       "\n",
       "    .dataframe tbody tr th {\n",
       "        vertical-align: top;\n",
       "    }\n",
       "\n",
       "    .dataframe thead th {\n",
       "        text-align: right;\n",
       "    }\n",
       "</style>\n",
       "<table border=\"1\" class=\"dataframe\">\n",
       "  <thead>\n",
       "    <tr style=\"text-align: right;\">\n",
       "      <th></th>\n",
       "      <th>App</th>\n",
       "      <th>Category</th>\n",
       "      <th>Rating</th>\n",
       "      <th>Reviews</th>\n",
       "      <th>Size</th>\n",
       "      <th>Installs</th>\n",
       "      <th>Type</th>\n",
       "      <th>Price</th>\n",
       "      <th>Content Rating</th>\n",
       "      <th>Genres</th>\n",
       "      <th>Last Updated</th>\n",
       "      <th>Current Ver</th>\n",
       "      <th>Android Ver</th>\n",
       "    </tr>\n",
       "  </thead>\n",
       "  <tbody>\n",
       "  </tbody>\n",
       "</table>\n",
       "</div>"
      ],
      "text/plain": [
       "Empty DataFrame\n",
       "Columns: [App, Category, Rating, Reviews, Size, Installs, Type, Price, Content Rating, Genres, Last Updated, Current Ver, Android Ver]\n",
       "Index: []"
      ]
     },
     "execution_count": 1086,
     "metadata": {},
     "output_type": "execute_result"
    }
   ],
   "source": [
    "#Check irelevant name \n",
    "play.loc[play['App']== \"#NAME\"]"
   ]
  },
  {
   "cell_type": "code",
   "execution_count": 1087,
   "id": "f56e587e",
   "metadata": {},
   "outputs": [
    {
     "data": {
      "text/html": [
       "<div>\n",
       "<style scoped>\n",
       "    .dataframe tbody tr th:only-of-type {\n",
       "        vertical-align: middle;\n",
       "    }\n",
       "\n",
       "    .dataframe tbody tr th {\n",
       "        vertical-align: top;\n",
       "    }\n",
       "\n",
       "    .dataframe thead th {\n",
       "        text-align: right;\n",
       "    }\n",
       "</style>\n",
       "<table border=\"1\" class=\"dataframe\">\n",
       "  <thead>\n",
       "    <tr style=\"text-align: right;\">\n",
       "      <th></th>\n",
       "      <th>App</th>\n",
       "      <th>Category</th>\n",
       "      <th>Rating</th>\n",
       "      <th>Reviews</th>\n",
       "      <th>Size</th>\n",
       "      <th>Installs</th>\n",
       "      <th>Type</th>\n",
       "      <th>Price</th>\n",
       "      <th>Content Rating</th>\n",
       "      <th>Genres</th>\n",
       "      <th>Last Updated</th>\n",
       "      <th>Current Ver</th>\n",
       "      <th>Android Ver</th>\n",
       "    </tr>\n",
       "  </thead>\n",
       "  <tbody>\n",
       "    <tr>\n",
       "      <th>9308</th>\n",
       "      <td></td>\n",
       "      <td>NEWS_AND_MAGAZINES</td>\n",
       "      <td>4.8</td>\n",
       "      <td>311.0</td>\n",
       "      <td>14M</td>\n",
       "      <td>5000.0</td>\n",
       "      <td>Free</td>\n",
       "      <td>0.0</td>\n",
       "      <td>Everyone 10+</td>\n",
       "      <td>News &amp; Magazines</td>\n",
       "      <td>15-07-2018</td>\n",
       "      <td>2.9.19a</td>\n",
       "      <td>4.2 and up</td>\n",
       "    </tr>\n",
       "  </tbody>\n",
       "</table>\n",
       "</div>"
      ],
      "text/plain": [
       "          App            Category  Rating  Reviews Size  Installs  Type  \\\n",
       "9308           NEWS_AND_MAGAZINES     4.8    311.0  14M    5000.0  Free   \n",
       "\n",
       "      Price Content Rating            Genres Last Updated Current Ver  \\\n",
       "9308    0.0   Everyone 10+  News & Magazines   15-07-2018     2.9.19a   \n",
       "\n",
       "     Android Ver  \n",
       "9308  4.2 and up  "
      ]
     },
     "execution_count": 1087,
     "metadata": {},
     "output_type": "execute_result"
    }
   ],
   "source": [
    "play.loc[play['Reviews']== 311]"
   ]
  },
  {
   "cell_type": "code",
   "execution_count": 1088,
   "id": "c7fa5209",
   "metadata": {},
   "outputs": [],
   "source": [
    "#Lets drop above mentioned unrecognized app name rows\n",
    "play.drop(index=3750,inplace=True)\n",
    "play.drop(index=9308,inplace=True)\n",
    "play.drop(index=324,inplace=True)\n",
    "play.drop(index=8884,inplace=True)\n",
    "\n"
   ]
  },
  {
   "cell_type": "code",
   "execution_count": 1089,
   "id": "e34c98d0",
   "metadata": {},
   "outputs": [
    {
     "data": {
      "text/html": [
       "<div>\n",
       "<style scoped>\n",
       "    .dataframe tbody tr th:only-of-type {\n",
       "        vertical-align: middle;\n",
       "    }\n",
       "\n",
       "    .dataframe tbody tr th {\n",
       "        vertical-align: top;\n",
       "    }\n",
       "\n",
       "    .dataframe thead th {\n",
       "        text-align: right;\n",
       "    }\n",
       "</style>\n",
       "<table border=\"1\" class=\"dataframe\">\n",
       "  <thead>\n",
       "    <tr style=\"text-align: right;\">\n",
       "      <th></th>\n",
       "      <th>App</th>\n",
       "      <th>Category</th>\n",
       "      <th>Rating</th>\n",
       "      <th>Reviews</th>\n",
       "      <th>Size</th>\n",
       "      <th>Installs</th>\n",
       "      <th>Type</th>\n",
       "      <th>Price</th>\n",
       "      <th>Content Rating</th>\n",
       "      <th>Genres</th>\n",
       "      <th>Last Updated</th>\n",
       "      <th>Current Ver</th>\n",
       "      <th>Android Ver</th>\n",
       "    </tr>\n",
       "  </thead>\n",
       "  <tbody>\n",
       "  </tbody>\n",
       "</table>\n",
       "</div>"
      ],
      "text/plain": [
       "Empty DataFrame\n",
       "Columns: [App, Category, Rating, Reviews, Size, Installs, Type, Price, Content Rating, Genres, Last Updated, Current Ver, Android Ver]\n",
       "Index: []"
      ]
     },
     "execution_count": 1089,
     "metadata": {},
     "output_type": "execute_result"
    }
   ],
   "source": [
    "# Lets check the deleted rows\n",
    "play.loc[play['App']== \" \"]"
   ]
  },
  {
   "cell_type": "code",
   "execution_count": 1090,
   "id": "4886bc10",
   "metadata": {},
   "outputs": [
    {
     "name": "stdout",
     "output_type": "stream",
     "text": [
      "<class 'pandas.core.frame.DataFrame'>\n",
      "Int64Index: 10354 entries, 0 to 10840\n",
      "Data columns (total 13 columns):\n",
      " #   Column          Non-Null Count  Dtype  \n",
      "---  ------          --------------  -----  \n",
      " 0   App             10354 non-null  object \n",
      " 1   Category        10354 non-null  object \n",
      " 2   Rating          8890 non-null   float64\n",
      " 3   Reviews         10353 non-null  float64\n",
      " 4   Size            10354 non-null  object \n",
      " 5   Installs        10353 non-null  float64\n",
      " 6   Type            10353 non-null  object \n",
      " 7   Price           10353 non-null  float64\n",
      " 8   Content Rating  10353 non-null  object \n",
      " 9   Genres          10354 non-null  object \n",
      " 10  Last Updated    10353 non-null  object \n",
      " 11  Current Ver     10346 non-null  object \n",
      " 12  Android Ver     10351 non-null  object \n",
      "dtypes: float64(4), object(9)\n",
      "memory usage: 1.1+ MB\n"
     ]
    }
   ],
   "source": [
    "play.info()"
   ]
  },
  {
   "cell_type": "code",
   "execution_count": 1091,
   "id": "1dc697ac",
   "metadata": {},
   "outputs": [
    {
     "data": {
      "text/plain": [
       "array(['ART_AND_DESIGN', 'AUTO_AND_VEHICLES', 'BEAUTY',\n",
       "       'BOOKS_AND_REFERENCE', 'BUSINESS', 'COMICS', 'COMMUNICATION',\n",
       "       'DATING', 'EDUCATION', 'ENTERTAINMENT', 'EVENTS', 'FINANCE',\n",
       "       'FOOD_AND_DRINK', 'HEALTH_AND_FITNESS', 'HOUSE_AND_HOME',\n",
       "       'LIBRARIES_AND_DEMO', 'LIFESTYLE', 'GAME', 'FAMILY', 'MEDICAL',\n",
       "       'SOCIAL', 'SHOPPING', 'PHOTOGRAPHY', 'SPORTS', 'TRAVEL_AND_LOCAL',\n",
       "       'TOOLS', 'PERSONALIZATION', 'PRODUCTIVITY', 'PARENTING', 'WEATHER',\n",
       "       'VIDEO_PLAYERS', 'NEWS_AND_MAGAZINES', 'MAPS_AND_NAVIGATION',\n",
       "       '1.9'], dtype=object)"
      ]
     },
     "execution_count": 1091,
     "metadata": {},
     "output_type": "execute_result"
    }
   ],
   "source": [
    "#Cleaning Category column\n",
    "\n",
    "play[\"Category\"].unique()"
   ]
  },
  {
   "cell_type": "code",
   "execution_count": 1092,
   "id": "0a90e57f",
   "metadata": {},
   "outputs": [
    {
     "data": {
      "text/html": [
       "<div>\n",
       "<style scoped>\n",
       "    .dataframe tbody tr th:only-of-type {\n",
       "        vertical-align: middle;\n",
       "    }\n",
       "\n",
       "    .dataframe tbody tr th {\n",
       "        vertical-align: top;\n",
       "    }\n",
       "\n",
       "    .dataframe thead th {\n",
       "        text-align: right;\n",
       "    }\n",
       "</style>\n",
       "<table border=\"1\" class=\"dataframe\">\n",
       "  <thead>\n",
       "    <tr style=\"text-align: right;\">\n",
       "      <th></th>\n",
       "      <th>App</th>\n",
       "      <th>Category</th>\n",
       "      <th>Rating</th>\n",
       "      <th>Reviews</th>\n",
       "      <th>Size</th>\n",
       "      <th>Installs</th>\n",
       "      <th>Type</th>\n",
       "      <th>Price</th>\n",
       "      <th>Content Rating</th>\n",
       "      <th>Genres</th>\n",
       "      <th>Last Updated</th>\n",
       "      <th>Current Ver</th>\n",
       "      <th>Android Ver</th>\n",
       "    </tr>\n",
       "  </thead>\n",
       "  <tbody>\n",
       "    <tr>\n",
       "      <th>10472</th>\n",
       "      <td>Life Made WIFi Touchscreen Photo Frame</td>\n",
       "      <td>1.9</td>\n",
       "      <td>19.0</td>\n",
       "      <td>NaN</td>\n",
       "      <td>1,000+</td>\n",
       "      <td>NaN</td>\n",
       "      <td>0</td>\n",
       "      <td>NaN</td>\n",
       "      <td>NaN</td>\n",
       "      <td>February 11, 2018</td>\n",
       "      <td>NaN</td>\n",
       "      <td>4.0 and up</td>\n",
       "      <td>NaN</td>\n",
       "    </tr>\n",
       "  </tbody>\n",
       "</table>\n",
       "</div>"
      ],
      "text/plain": [
       "                                          App Category  Rating  Reviews  \\\n",
       "10472  Life Made WIFi Touchscreen Photo Frame      1.9    19.0      NaN   \n",
       "\n",
       "         Size  Installs Type  Price Content Rating             Genres  \\\n",
       "10472  1,000+       NaN    0    NaN            NaN  February 11, 2018   \n",
       "\n",
       "      Last Updated Current Ver Android Ver  \n",
       "10472          NaN  4.0 and up         NaN  "
      ]
     },
     "execution_count": 1092,
     "metadata": {},
     "output_type": "execute_result"
    }
   ],
   "source": [
    "a=play.loc[play['Category']=='1.9']\n",
    "a\n"
   ]
  },
  {
   "cell_type": "code",
   "execution_count": 1093,
   "id": "e1133cfa",
   "metadata": {},
   "outputs": [],
   "source": [
    "play.drop(index=10472,inplace=True)#Remove irrelevant data"
   ]
  },
  {
   "cell_type": "code",
   "execution_count": 1094,
   "id": "e1ef7052",
   "metadata": {},
   "outputs": [
    {
     "name": "stdout",
     "output_type": "stream",
     "text": [
      "['ART_AND_DESIGN' 'AUTO_AND_VEHICLES' 'BEAUTY' 'BOOKS_AND_REFERENCE'\n",
      " 'BUSINESS' 'COMICS' 'COMMUNICATION' 'DATING' 'EDUCATION' 'ENTERTAINMENT'\n",
      " 'EVENTS' 'FINANCE' 'FOOD_AND_DRINK' 'HEALTH_AND_FITNESS' 'HOUSE_AND_HOME'\n",
      " 'LIBRARIES_AND_DEMO' 'LIFESTYLE' 'GAME' 'FAMILY' 'MEDICAL' 'SOCIAL'\n",
      " 'SHOPPING' 'PHOTOGRAPHY' 'SPORTS' 'TRAVEL_AND_LOCAL' 'TOOLS'\n",
      " 'PERSONALIZATION' 'PRODUCTIVITY' 'PARENTING' 'WEATHER' 'VIDEO_PLAYERS'\n",
      " 'NEWS_AND_MAGAZINES' 'MAPS_AND_NAVIGATION']\n"
     ]
    }
   ],
   "source": [
    "print(play[\"Category\"].unique())#Check data"
   ]
  },
  {
   "cell_type": "code",
   "execution_count": 1095,
   "id": "e2ed1f24",
   "metadata": {},
   "outputs": [
    {
     "name": "stdout",
     "output_type": "stream",
     "text": [
      "[4.1 3.9 4.7 4.5 4.3 4.4 3.8 4.2 4.6 3.2 4.  nan 4.8 4.9 3.6 3.7 3.3 3.4\n",
      " 3.5 3.1 5.  2.6 3.  1.9 2.5 2.8 2.7 1.  2.9 2.3 2.2 1.7 2.  1.8 2.4 1.6\n",
      " 2.1 1.4 1.5 1.2]\n",
      "1464\n",
      "None\n"
     ]
    }
   ],
   "source": [
    "#Cleaning for Rating column\n",
    "\n",
    "print(play[\"Rating\"].unique())#unique values for rating\n",
    "print(play[\"Rating\"].isnull().sum())#Check total null values\n",
    "print(play[\"Rating\"].fillna(method=\"pad\",inplace=True))#Filled nan values with previous values "
   ]
  },
  {
   "cell_type": "markdown",
   "id": "a5c7c340",
   "metadata": {},
   "source": [
    "Here,in rating column we have filled nan values with previous values.  "
   ]
  },
  {
   "cell_type": "code",
   "execution_count": 1096,
   "id": "d6d61ca0",
   "metadata": {},
   "outputs": [
    {
     "name": "stdout",
     "output_type": "stream",
     "text": [
      "0\n"
     ]
    }
   ],
   "source": [
    "print(play[\"Rating\"].isnull().sum())#Check null values again\n"
   ]
  },
  {
   "cell_type": "code",
   "execution_count": 1097,
   "id": "ad55eb3e",
   "metadata": {},
   "outputs": [
    {
     "name": "stdout",
     "output_type": "stream",
     "text": [
      "[   159    967  87510 ...    603   1195 398307]\n"
     ]
    },
    {
     "data": {
      "text/plain": [
       "0"
      ]
     },
     "execution_count": 1097,
     "metadata": {},
     "output_type": "execute_result"
    }
   ],
   "source": [
    "#Cleaning for Reviews column\n",
    "\n",
    "play['Reviews'] = play['Reviews'].astype(int)#Converted data type from float to integer\n",
    "print(play[\"Reviews\"].unique())\n",
    "play[\"Reviews\"].isnull().sum()"
   ]
  },
  {
   "cell_type": "code",
   "execution_count": 1098,
   "id": "093d50f5",
   "metadata": {},
   "outputs": [
    {
     "name": "stdout",
     "output_type": "stream",
     "text": [
      "['19M' '14M' '8.7M' '25M' '2.8M' '5.6M' '29M' '33M' '3.1M' '28M' '12M'\n",
      " '20M' '21M' '37M' '2.7M' '5.5M' '17M' '39M' '31M' '4.2M' '7.0M' '23M'\n",
      " '6.0M' '6.1M' '4.6M' '9.2M' '5.2M' '11M' '24M' 'Varies with device'\n",
      " '9.4M' '15M' '10M' '1.2M' '26M' '8.0M' '7.9M' '56M' '57M' '35M' '54M'\n",
      " '201k' '3.6M' '5.7M' '8.6M' '2.4M' '27M' '2.5M' '16M' '3.4M' '8.9M'\n",
      " '3.9M' '2.9M' '38M' '32M' '5.4M' '18M' '1.1M' '2.2M' '4.5M' '9.8M' '52M'\n",
      " '9.0M' '6.7M' '30M' '2.6M' '7.1M' '3.7M' '22M' '7.4M' '6.4M' '3.2M'\n",
      " '8.2M' '9.9M' '4.9M' '9.5M' '5.0M' '5.9M' '13M' '73M' '6.8M' '3.5M'\n",
      " '4.0M' '2.3M' '7.2M' '2.1M' '42M' '7.3M' '9.1M' '55M' '23k' '6.5M' '1.5M'\n",
      " '7.5M' '51M' '41M' '48M' '8.5M' '46M' '8.3M' '4.3M' '4.7M' '3.3M' '40M'\n",
      " '7.8M' '8.8M' '6.6M' '5.1M' '61M' '66M' '79k' '8.4M' '118k' '44M' '695k'\n",
      " '1.6M' '6.2M' '18k' '53M' '1.4M' '3.0M' '5.8M' '3.8M' '9.6M' '45M' '63M'\n",
      " '49M' '77M' '4.4M' '4.8M' '70M' '6.9M' '9.3M' '10.0M' '8.1M' '36M' '84M'\n",
      " '97M' '2.0M' '1.9M' '1.8M' '5.3M' '47M' '556k' '526k' '76M' '7.6M' '59M'\n",
      " '9.7M' '78M' '72M' '43M' '7.7M' '6.3M' '334k' '34M' '93M' '65M' '79M'\n",
      " '100M' '58M' '50M' '68M' '64M' '67M' '60M' '94M' '232k' '99M' '624k'\n",
      " '95M' '8.5k' '41k' '292k' '11k' '80M' '1.7M' '74M' '62M' '69M' '75M'\n",
      " '98M' '85M' '82M' '96M' '87M' '71M' '86M' '91M' '81M' '92M' '83M' '88M'\n",
      " '704k' '862k' '899k' '378k' '266k' '375k' '1.3M' '975k' '980k' '4.1M'\n",
      " '89M' '696k' '544k' '525k' '920k' '779k' '853k' '720k' '713k' '772k'\n",
      " '318k' '58k' '241k' '196k' '857k' '51k' '953k' '865k' '251k' '930k'\n",
      " '540k' '313k' '746k' '203k' '26k' '314k' '239k' '371k' '220k' '730k'\n",
      " '756k' '91k' '293k' '17k' '74k' '14k' '317k' '78k' '924k' '902k' '818k'\n",
      " '81k' '939k' '169k' '45k' '475k' '965k' '90M' '545k' '61k' '283k' '655k'\n",
      " '714k' '93k' '872k' '121k' '322k' '1.0M' '976k' '172k' '238k' '549k'\n",
      " '206k' '954k' '444k' '717k' '210k' '609k' '308k' '705k' '306k' '904k'\n",
      " '473k' '175k' '350k' '383k' '454k' '421k' '70k' '812k' '442k' '842k'\n",
      " '417k' '412k' '459k' '478k' '335k' '782k' '721k' '430k' '429k' '192k'\n",
      " '200k' '460k' '728k' '496k' '816k' '414k' '506k' '887k' '613k' '243k'\n",
      " '569k' '778k' '683k' '592k' '319k' '186k' '840k' '647k' '191k' '373k'\n",
      " '437k' '598k' '716k' '585k' '982k' '222k' '219k' '55k' '948k' '323k'\n",
      " '691k' '511k' '951k' '963k' '25k' '554k' '351k' '27k' '82k' '208k' '913k'\n",
      " '514k' '551k' '29k' '103k' '898k' '743k' '116k' '153k' '209k' '353k'\n",
      " '499k' '173k' '597k' '809k' '122k' '411k' '400k' '801k' '787k' '237k'\n",
      " '50k' '643k' '986k' '97k' '516k' '837k' '780k' '961k' '269k' '20k' '498k'\n",
      " '600k' '749k' '642k' '881k' '72k' '656k' '601k' '221k' '228k' '108k'\n",
      " '940k' '176k' '33k' '663k' '34k' '942k' '259k' '164k' '458k' '245k'\n",
      " '629k' '28k' '288k' '775k' '785k' '636k' '916k' '994k' '309k' '485k'\n",
      " '914k' '903k' '608k' '500k' '54k' '562k' '847k' '957k' '688k' '811k'\n",
      " '270k' '48k' '329k' '523k' '921k' '874k' '981k' '784k' '280k' '24k'\n",
      " '518k' '754k' '892k' '154k' '860k' '364k' '387k' '626k' '161k' '879k'\n",
      " '39k' '970k' '170k' '141k' '160k' '144k' '143k' '190k' '376k' '193k'\n",
      " '246k' '73k' '658k' '992k' '253k' '420k' '404k' '470k' '226k' '240k'\n",
      " '89k' '234k' '257k' '861k' '467k' '157k' '44k' '676k' '67k' '552k' '885k'\n",
      " '1020k' '582k' '619k']\n"
     ]
    }
   ],
   "source": [
    "#Cleaning for Size column\n",
    "print(play[\"Size\"].unique())\n",
    "play.loc[play[\"Size\"]==\"Varies with device\"]\n",
    "# print(play[\"Rating\"].replace(\"Varies with device\",\"0\",inplace = True))\n",
    "play[\"Size\"].replace([\"Varies with device\"], \"Unavailable\", inplace=True)#Replaced with zero\n",
    "# print(play[\"Size\"].fillna(method=\"pad\",inplace=True))#filled nan values with previous values"
   ]
  },
  {
   "cell_type": "code",
   "execution_count": 1099,
   "id": "a38b98b1",
   "metadata": {},
   "outputs": [
    {
     "name": "stdout",
     "output_type": "stream",
     "text": [
      "['19M' '14M' '8.7M' '25M' '2.8M' '5.6M' '29M' '33M' '3.1M' '28M' '12M'\n",
      " '20M' '21M' '37M' '2.7M' '5.5M' '17M' '39M' '31M' '4.2M' '7.0M' '23M'\n",
      " '6.0M' '6.1M' '4.6M' '9.2M' '5.2M' '11M' '24M' 'Unavailable' '9.4M' '15M'\n",
      " '10M' '1.2M' '26M' '8.0M' '7.9M' '56M' '57M' '35M' '54M' '201k' '3.6M'\n",
      " '5.7M' '8.6M' '2.4M' '27M' '2.5M' '16M' '3.4M' '8.9M' '3.9M' '2.9M' '38M'\n",
      " '32M' '5.4M' '18M' '1.1M' '2.2M' '4.5M' '9.8M' '52M' '9.0M' '6.7M' '30M'\n",
      " '2.6M' '7.1M' '3.7M' '22M' '7.4M' '6.4M' '3.2M' '8.2M' '9.9M' '4.9M'\n",
      " '9.5M' '5.0M' '5.9M' '13M' '73M' '6.8M' '3.5M' '4.0M' '2.3M' '7.2M'\n",
      " '2.1M' '42M' '7.3M' '9.1M' '55M' '23k' '6.5M' '1.5M' '7.5M' '51M' '41M'\n",
      " '48M' '8.5M' '46M' '8.3M' '4.3M' '4.7M' '3.3M' '40M' '7.8M' '8.8M' '6.6M'\n",
      " '5.1M' '61M' '66M' '79k' '8.4M' '118k' '44M' '695k' '1.6M' '6.2M' '18k'\n",
      " '53M' '1.4M' '3.0M' '5.8M' '3.8M' '9.6M' '45M' '63M' '49M' '77M' '4.4M'\n",
      " '4.8M' '70M' '6.9M' '9.3M' '10.0M' '8.1M' '36M' '84M' '97M' '2.0M' '1.9M'\n",
      " '1.8M' '5.3M' '47M' '556k' '526k' '76M' '7.6M' '59M' '9.7M' '78M' '72M'\n",
      " '43M' '7.7M' '6.3M' '334k' '34M' '93M' '65M' '79M' '100M' '58M' '50M'\n",
      " '68M' '64M' '67M' '60M' '94M' '232k' '99M' '624k' '95M' '8.5k' '41k'\n",
      " '292k' '11k' '80M' '1.7M' '74M' '62M' '69M' '75M' '98M' '85M' '82M' '96M'\n",
      " '87M' '71M' '86M' '91M' '81M' '92M' '83M' '88M' '704k' '862k' '899k'\n",
      " '378k' '266k' '375k' '1.3M' '975k' '980k' '4.1M' '89M' '696k' '544k'\n",
      " '525k' '920k' '779k' '853k' '720k' '713k' '772k' '318k' '58k' '241k'\n",
      " '196k' '857k' '51k' '953k' '865k' '251k' '930k' '540k' '313k' '746k'\n",
      " '203k' '26k' '314k' '239k' '371k' '220k' '730k' '756k' '91k' '293k' '17k'\n",
      " '74k' '14k' '317k' '78k' '924k' '902k' '818k' '81k' '939k' '169k' '45k'\n",
      " '475k' '965k' '90M' '545k' '61k' '283k' '655k' '714k' '93k' '872k' '121k'\n",
      " '322k' '1.0M' '976k' '172k' '238k' '549k' '206k' '954k' '444k' '717k'\n",
      " '210k' '609k' '308k' '705k' '306k' '904k' '473k' '175k' '350k' '383k'\n",
      " '454k' '421k' '70k' '812k' '442k' '842k' '417k' '412k' '459k' '478k'\n",
      " '335k' '782k' '721k' '430k' '429k' '192k' '200k' '460k' '728k' '496k'\n",
      " '816k' '414k' '506k' '887k' '613k' '243k' '569k' '778k' '683k' '592k'\n",
      " '319k' '186k' '840k' '647k' '191k' '373k' '437k' '598k' '716k' '585k'\n",
      " '982k' '222k' '219k' '55k' '948k' '323k' '691k' '511k' '951k' '963k'\n",
      " '25k' '554k' '351k' '27k' '82k' '208k' '913k' '514k' '551k' '29k' '103k'\n",
      " '898k' '743k' '116k' '153k' '209k' '353k' '499k' '173k' '597k' '809k'\n",
      " '122k' '411k' '400k' '801k' '787k' '237k' '50k' '643k' '986k' '97k'\n",
      " '516k' '837k' '780k' '961k' '269k' '20k' '498k' '600k' '749k' '642k'\n",
      " '881k' '72k' '656k' '601k' '221k' '228k' '108k' '940k' '176k' '33k'\n",
      " '663k' '34k' '942k' '259k' '164k' '458k' '245k' '629k' '28k' '288k'\n",
      " '775k' '785k' '636k' '916k' '994k' '309k' '485k' '914k' '903k' '608k'\n",
      " '500k' '54k' '562k' '847k' '957k' '688k' '811k' '270k' '48k' '329k'\n",
      " '523k' '921k' '874k' '981k' '784k' '280k' '24k' '518k' '754k' '892k'\n",
      " '154k' '860k' '364k' '387k' '626k' '161k' '879k' '39k' '970k' '170k'\n",
      " '141k' '160k' '144k' '143k' '190k' '376k' '193k' '246k' '73k' '658k'\n",
      " '992k' '253k' '420k' '404k' '470k' '226k' '240k' '89k' '234k' '257k'\n",
      " '861k' '467k' '157k' '44k' '676k' '67k' '552k' '885k' '1020k' '582k'\n",
      " '619k']\n"
     ]
    }
   ],
   "source": [
    "print(play[\"Size\"].unique())"
   ]
  },
  {
   "cell_type": "code",
   "execution_count": 1100,
   "id": "d7100a24",
   "metadata": {},
   "outputs": [
    {
     "name": "stdout",
     "output_type": "stream",
     "text": [
      "[     10000     500000    5000000   50000000     100000      50000\n",
      "    1000000   10000000       5000  100000000 1000000000       1000\n",
      "  500000000         50        100        500         10          1\n",
      "          5          0]\n"
     ]
    },
    {
     "data": {
      "text/plain": [
       "0"
      ]
     },
     "execution_count": 1100,
     "metadata": {},
     "output_type": "execute_result"
    }
   ],
   "source": [
    "#Cleaning for installs column\n",
    "play[\"Installs\"]  = play['Installs'].astype(int)\n",
    "print(play[\"Installs\"].unique())\n",
    "play['Installs'].isnull().sum()"
   ]
  },
  {
   "cell_type": "code",
   "execution_count": 1101,
   "id": "120139d9",
   "metadata": {},
   "outputs": [
    {
     "data": {
      "text/html": [
       "<div>\n",
       "<style scoped>\n",
       "    .dataframe tbody tr th:only-of-type {\n",
       "        vertical-align: middle;\n",
       "    }\n",
       "\n",
       "    .dataframe tbody tr th {\n",
       "        vertical-align: top;\n",
       "    }\n",
       "\n",
       "    .dataframe thead th {\n",
       "        text-align: right;\n",
       "    }\n",
       "</style>\n",
       "<table border=\"1\" class=\"dataframe\">\n",
       "  <thead>\n",
       "    <tr style=\"text-align: right;\">\n",
       "      <th></th>\n",
       "      <th>App</th>\n",
       "      <th>Category</th>\n",
       "      <th>Rating</th>\n",
       "      <th>Reviews</th>\n",
       "      <th>Size</th>\n",
       "      <th>Installs</th>\n",
       "      <th>Type</th>\n",
       "      <th>Price</th>\n",
       "      <th>Content Rating</th>\n",
       "      <th>Genres</th>\n",
       "      <th>Last Updated</th>\n",
       "      <th>Current Ver</th>\n",
       "      <th>Android Ver</th>\n",
       "    </tr>\n",
       "  </thead>\n",
       "  <tbody>\n",
       "    <tr>\n",
       "      <th>9148</th>\n",
       "      <td>Command &amp; Conquer Rivals</td>\n",
       "      <td>FAMILY</td>\n",
       "      <td>4.4</td>\n",
       "      <td>0</td>\n",
       "      <td>Unavailable</td>\n",
       "      <td>0</td>\n",
       "      <td>NaN</td>\n",
       "      <td>0.0</td>\n",
       "      <td>Everyone 10+</td>\n",
       "      <td>Strategy</td>\n",
       "      <td>28-06-2018</td>\n",
       "      <td>Varies with device</td>\n",
       "      <td>Varies with device</td>\n",
       "    </tr>\n",
       "  </tbody>\n",
       "</table>\n",
       "</div>"
      ],
      "text/plain": [
       "                           App Category  Rating  Reviews         Size  \\\n",
       "9148  Command & Conquer Rivals   FAMILY     4.4        0  Unavailable   \n",
       "\n",
       "      Installs Type  Price Content Rating    Genres Last Updated  \\\n",
       "9148         0  NaN    0.0   Everyone 10+  Strategy   28-06-2018   \n",
       "\n",
       "             Current Ver         Android Ver  \n",
       "9148  Varies with device  Varies with device  "
      ]
     },
     "execution_count": 1101,
     "metadata": {},
     "output_type": "execute_result"
    }
   ],
   "source": [
    "play.loc[play['App']== \"Command & Conquer Rivals\"]"
   ]
  },
  {
   "cell_type": "code",
   "execution_count": 1102,
   "id": "186cd288",
   "metadata": {},
   "outputs": [
    {
     "name": "stdout",
     "output_type": "stream",
     "text": [
      "['Free' 'Paid' nan]\n"
     ]
    }
   ],
   "source": [
    "#Cleaning for type column\n",
    "print(play[\"Type\"].unique())\n",
    "play.loc[play['Type']== \"nan\"]\n",
    "play.drop(index=9148,inplace=True)\n",
    "\n"
   ]
  },
  {
   "cell_type": "code",
   "execution_count": 1103,
   "id": "82113997",
   "metadata": {},
   "outputs": [
    {
     "name": "stdout",
     "output_type": "stream",
     "text": [
      "['Free' 'Paid']\n"
     ]
    }
   ],
   "source": [
    "print(play[\"Type\"].unique())#Check nan value again"
   ]
  },
  {
   "cell_type": "code",
   "execution_count": 1104,
   "id": "b88114a3",
   "metadata": {},
   "outputs": [
    {
     "name": "stdout",
     "output_type": "stream",
     "text": [
      "[  0.     4.99   3.99   6.99   1.49   2.99   7.99   5.99   3.49   1.99\n",
      "   9.99   7.49   0.99   9.     5.49  10.    24.99  11.99  79.99  16.99\n",
      "  14.99   1.    29.99  12.99   2.49  10.99   1.5   19.99  15.99  33.99\n",
      "  74.99  39.99   3.95   4.49   1.7    8.99   2.     3.88  25.99 399.99\n",
      "  17.99 400.     3.02   1.76   4.84   4.77   1.61   2.5    1.59   6.49\n",
      "   1.29   5.    13.99 299.99 379.99  37.99  18.99 389.99  19.9    8.49\n",
      "   1.75  14.     4.85  46.99 109.99 154.99   3.08   2.59   4.8    1.96\n",
      "  19.4    3.9    4.59  15.46   3.04   4.29   2.6    3.28   4.6   28.99\n",
      "   2.95   2.9    1.97 200.    89.99   2.56  30.99   3.61 394.99   1.26\n",
      "   1.2    1.04]\n",
      "0\n"
     ]
    }
   ],
   "source": [
    "#Cleaning for price column\n",
    "#As per the data source details 96% of the values are 0 in this column that means 96% of the apps are free\n",
    "print(play[\"Price\"].unique())\n",
    "print(play[\"Price\"].isnull().sum())\n"
   ]
  },
  {
   "cell_type": "markdown",
   "id": "cadda9b4",
   "metadata": {},
   "source": [
    "In Genres column there are lot of same categories which need to be updated\n"
   ]
  },
  {
   "cell_type": "code",
   "execution_count": 1105,
   "id": "1d920f7e",
   "metadata": {},
   "outputs": [
    {
     "name": "stdout",
     "output_type": "stream",
     "text": [
      "['Art & Design' 'Art & Design;Pretend Play' 'Art & Design;Creativity'\n",
      " 'Art & Design;Action & Adventure' 'Auto & Vehicles' 'Beauty'\n",
      " 'Books & Reference' 'Business' 'Comics' 'Comics;Creativity'\n",
      " 'Communication' 'Dating' 'Education;Education' 'Education'\n",
      " 'Education;Creativity' 'Education;Music & Video'\n",
      " 'Education;Action & Adventure' 'Education;Pretend Play'\n",
      " 'Education;Brain Games' 'Entertainment' 'Entertainment;Music & Video'\n",
      " 'Entertainment;Brain Games' 'Entertainment;Creativity' 'Events' 'Finance'\n",
      " 'Food & Drink' 'Health & Fitness' 'House & Home' 'Libraries & Demo'\n",
      " 'Lifestyle' 'Lifestyle;Pretend Play' 'Adventure;Action & Adventure'\n",
      " 'Arcade' 'Casual' 'Card' 'Casual;Pretend Play' 'Action' 'Strategy'\n",
      " 'Puzzle' 'Sports' 'Music' 'Word' 'Racing' 'Casual;Creativity'\n",
      " 'Casual;Action & Adventure' 'Simulation' 'Adventure' 'Board' 'Trivia'\n",
      " 'Role Playing' 'Simulation;Education' 'Action;Action & Adventure'\n",
      " 'Casual;Brain Games' 'Simulation;Action & Adventure'\n",
      " 'Educational;Creativity' 'Puzzle;Brain Games' 'Educational;Education'\n",
      " 'Card;Brain Games' 'Educational;Brain Games' 'Educational;Pretend Play'\n",
      " 'Entertainment;Education' 'Casual;Education' 'Music;Music & Video'\n",
      " 'Racing;Action & Adventure' 'Arcade;Pretend Play'\n",
      " 'Role Playing;Action & Adventure' 'Simulation;Pretend Play'\n",
      " 'Puzzle;Creativity' 'Sports;Action & Adventure'\n",
      " 'Educational;Action & Adventure' 'Arcade;Action & Adventure'\n",
      " 'Entertainment;Action & Adventure' 'Puzzle;Action & Adventure'\n",
      " 'Strategy;Action & Adventure' 'Music & Audio;Music & Video'\n",
      " 'Health & Fitness;Education' 'Adventure;Education' 'Board;Brain Games'\n",
      " 'Board;Action & Adventure' 'Board;Pretend Play' 'Casual;Music & Video'\n",
      " 'Role Playing;Pretend Play' 'Entertainment;Pretend Play'\n",
      " 'Video Players & Editors;Creativity' 'Card;Action & Adventure' 'Medical'\n",
      " 'Social' 'Shopping' 'Photography' 'Travel & Local'\n",
      " 'Travel & Local;Action & Adventure' 'Tools' 'Tools;Education'\n",
      " 'Personalization' 'Productivity' 'Parenting' 'Parenting;Music & Video'\n",
      " 'Parenting;Education' 'Parenting;Brain Games' 'Weather'\n",
      " 'Video Players & Editors' 'Video Players & Editors;Music & Video'\n",
      " 'News & Magazines' 'Maps & Navigation'\n",
      " 'Health & Fitness;Action & Adventure' 'Educational' 'Casino'\n",
      " 'Adventure;Brain Games' 'Trivia;Education' 'Lifestyle;Education'\n",
      " 'Books & Reference;Creativity' 'Books & Reference;Education'\n",
      " 'Puzzle;Education' 'Role Playing;Education' 'Role Playing;Brain Games'\n",
      " 'Strategy;Education' 'Racing;Pretend Play' 'Communication;Creativity'\n",
      " 'Strategy;Creativity']\n"
     ]
    }
   ],
   "source": [
    "#Cleaning for Genres column\n",
    "print(play[\"Genres\"].unique())"
   ]
  },
  {
   "cell_type": "code",
   "execution_count": 1106,
   "id": "23e1fda6",
   "metadata": {},
   "outputs": [],
   "source": [
    "play[\"Genres\"]=play[\"Genres\"].str.replace(\"Art & Design;Pretend Play\",\"Art & Design\")\n",
    "play[\"Genres\"]=play[\"Genres\"].str.replace(\"Art & Design;Creativity\",\"Art & Design\")\n",
    "play[\"Genres\"]=play[\"Genres\"].str.replace(\"Art & Design;Action & Adventure\",\"Art & Design\")\n",
    "play[\"Genres\"]=play[\"Genres\"].str.replace(\"Comics;Creativity\",\"Comics\")\n",
    "play[\"Genres\"]=play[\"Genres\"].str.replace(\"Education;Education\",\"Education\")\n",
    "play[\"Genres\"]=play[\"Genres\"].str.replace(\"Education;Creativity\",\"Education\")\n",
    "play[\"Genres\"]=play[\"Genres\"].str.replace(\"Education;Music & Video\",\"Education\")\n",
    "play[\"Genres\"]=play[\"Genres\"].str.replace(\"Education;Action & Adventure\",\"Education\")\n",
    "play[\"Genres\"]=play[\"Genres\"].str.replace(\"Education;Pretend Play\",\"Education\")\n",
    "play[\"Genres\"]=play[\"Genres\"].str.replace(\"Education;Brain Games\",\"Education\")\n",
    "play[\"Genres\"]=play[\"Genres\"].str.replace(\"Educational;Education\",\"Education\")\n",
    "play[\"Genres\"]=play[\"Genres\"].str.replace(\"Educational;Brain Games\",\"Education\")\n",
    "play[\"Genres\"]=play[\"Genres\"].str.replace(\"Educational;Pretend Play\",\"Education\")\n",
    "play[\"Genres\"]=play[\"Genres\"].str.replace(\"Educational;Action & Adventure\",\"Education\")\n",
    "play[\"Genres\"]=play[\"Genres\"].str.replace(\"Entertainment;Music & Video\",\"Entertainment\")\n",
    "play[\"Genres\"]=play[\"Genres\"].str.replace(\"Entertainment;Brain Games\",\"Entertainment\")\n",
    "play[\"Genres\"]=play[\"Genres\"].str.replace(\"Entertainment;Creativity\",\"Entertainment\")\n",
    "play[\"Genres\"]=play[\"Genres\"].str.replace(\"Entertainment;Education\",\"Entertainment\")\n",
    "play[\"Genres\"]=play[\"Genres\"].str.replace(\"Educational\",\"Education\")\n",
    "play[\"Genres\"]=play[\"Genres\"].str.replace(\"Entertainment;Action & Adventure\",\"Entertainment\")"
   ]
  },
  {
   "cell_type": "code",
   "execution_count": 1107,
   "id": "47c10bef",
   "metadata": {},
   "outputs": [
    {
     "name": "stdout",
     "output_type": "stream",
     "text": [
      "['Art & Design' 'Auto & Vehicles' 'Beauty' 'Books & Reference' 'Business'\n",
      " 'Comics' 'Communication' 'Dating' 'Education' 'Entertainment' 'Events'\n",
      " 'Finance' 'Food & Drink' 'Health & Fitness' 'House & Home'\n",
      " 'Libraries & Demo' 'Lifestyle' 'Lifestyle;Pretend Play'\n",
      " 'Adventure;Action & Adventure' 'Arcade' 'Casual' 'Card'\n",
      " 'Casual;Pretend Play' 'Action' 'Strategy' 'Puzzle' 'Sports' 'Music'\n",
      " 'Word' 'Racing' 'Casual;Creativity' 'Casual;Action & Adventure'\n",
      " 'Simulation' 'Adventure' 'Board' 'Trivia' 'Role Playing'\n",
      " 'Simulation;Education' 'Action;Action & Adventure' 'Casual;Brain Games'\n",
      " 'Simulation;Action & Adventure' 'Education;Creativity'\n",
      " 'Puzzle;Brain Games' 'Card;Brain Games' 'Casual;Education'\n",
      " 'Music;Music & Video' 'Racing;Action & Adventure' 'Arcade;Pretend Play'\n",
      " 'Role Playing;Action & Adventure' 'Simulation;Pretend Play'\n",
      " 'Puzzle;Creativity' 'Sports;Action & Adventure'\n",
      " 'Arcade;Action & Adventure' 'Puzzle;Action & Adventure'\n",
      " 'Strategy;Action & Adventure' 'Music & Audio;Music & Video'\n",
      " 'Health & Fitness;Education' 'Adventure;Education' 'Board;Brain Games'\n",
      " 'Board;Action & Adventure' 'Board;Pretend Play' 'Casual;Music & Video'\n",
      " 'Role Playing;Pretend Play' 'Entertainment;Pretend Play'\n",
      " 'Video Players & Editors;Creativity' 'Card;Action & Adventure' 'Medical'\n",
      " 'Social' 'Shopping' 'Photography' 'Travel & Local'\n",
      " 'Travel & Local;Action & Adventure' 'Tools' 'Tools;Education'\n",
      " 'Personalization' 'Productivity' 'Parenting' 'Parenting;Music & Video'\n",
      " 'Parenting;Education' 'Parenting;Brain Games' 'Weather'\n",
      " 'Video Players & Editors' 'Video Players & Editors;Music & Video'\n",
      " 'News & Magazines' 'Maps & Navigation'\n",
      " 'Health & Fitness;Action & Adventure' 'Casino' 'Adventure;Brain Games'\n",
      " 'Trivia;Education' 'Lifestyle;Education' 'Books & Reference;Creativity'\n",
      " 'Books & Reference;Education' 'Puzzle;Education' 'Role Playing;Education'\n",
      " 'Role Playing;Brain Games' 'Strategy;Education' 'Racing;Pretend Play'\n",
      " 'Communication;Creativity' 'Strategy;Creativity']\n"
     ]
    }
   ],
   "source": [
    "print(play[\"Genres\"].unique())"
   ]
  },
  {
   "cell_type": "code",
   "execution_count": 1108,
   "id": "63004aa0",
   "metadata": {},
   "outputs": [
    {
     "name": "stdout",
     "output_type": "stream",
     "text": [
      "['07-01-2018' '15-01-2018' '01-08-2018' ... '20-01-2014' '16-02-2014'\n",
      " '23-03-2014']\n"
     ]
    }
   ],
   "source": [
    "#Cleaning for Last Updated column\n",
    "print(play[\"Last Updated\"].unique())"
   ]
  },
  {
   "cell_type": "code",
   "execution_count": 1109,
   "id": "58a3cbd1",
   "metadata": {},
   "outputs": [
    {
     "data": {
      "text/plain": [
       "0"
      ]
     },
     "execution_count": 1109,
     "metadata": {},
     "output_type": "execute_result"
    }
   ],
   "source": [
    "play[\"Last Updated\"].isnull().sum()"
   ]
  },
  {
   "cell_type": "code",
   "execution_count": 1110,
   "id": "c1553ef8",
   "metadata": {},
   "outputs": [
    {
     "name": "stdout",
     "output_type": "stream",
     "text": [
      "['1.0.0' '2.0.0' '1.2.4' ... '1.0.612928' '0.3.4' '2.0.148.0']\n"
     ]
    }
   ],
   "source": [
    "#Cleaning for Current version column\n",
    "print(play[\"Current Ver\"].unique())"
   ]
  },
  {
   "cell_type": "code",
   "execution_count": 1111,
   "id": "002cf0d1",
   "metadata": {
    "scrolled": true
   },
   "outputs": [
    {
     "name": "stderr",
     "output_type": "stream",
     "text": [
      "C:\\Users\\harsh\\AppData\\Local\\Temp/ipykernel_17564/4267096201.py:5: FutureWarning: The default value of regex will change from True to False in a future version.\n",
      "  play[\"Current Ver\"]=play[\"Current Ver\"].str.replace(\"BL ONLINE PERSONAL TRAINING 7.9.0\",\"7.9.0\")\n",
      "C:\\Users\\harsh\\AppData\\Local\\Temp/ipykernel_17564/4267096201.py:6: FutureWarning: The default value of regex will change from True to False in a future version.\n",
      "  play[\"Current Ver\"]=play[\"Current Ver\"].str.replace(\"Rocksteady 1.3\",\"1.3\")\n"
     ]
    }
   ],
   "source": [
    "play.loc[play[\"Current Ver\"]==\"Varies with device\"]\n",
    "play[\"Current Ver\"]=play[\"Current Ver\"].str.replace(\"Varies with device\",\"0\")\n",
    "play[\"Current Ver\"]=play[\"Current Ver\"].str.replace(\"NaN\",\"0\")\n",
    "play[\"Current Ver\"]=play[\"Current Ver\"].str.replace(\"closed\",\"0\")\n",
    "play[\"Current Ver\"]=play[\"Current Ver\"].str.replace(\"BL ONLINE PERSONAL TRAINING 7.9.0\",\"7.9.0\")\n",
    "play[\"Current Ver\"]=play[\"Current Ver\"].str.replace(\"Rocksteady 1.3\",\"1.3\")\n",
    "play[\"Current Ver\"]=play[\"Current Ver\"].str.replace(\"MONEY\",\"0\")\n",
    "play[\"Current Ver\"]=play[\"Current Ver\"].str.replace(\"MONEY\",\"0\")\n",
    "play[\"Current Ver\"]=play[\"Current Ver\"].str.replace(\"Initial\",\"0\")"
   ]
  },
  {
   "cell_type": "markdown",
   "id": "a0469e60",
   "metadata": {},
   "source": [
    "Here,we have converted some of the irrelevant values in to their respective values and in zero"
   ]
  },
  {
   "cell_type": "code",
   "execution_count": 1112,
   "id": "67632998",
   "metadata": {},
   "outputs": [
    {
     "data": {
      "text/plain": [
       "0       1.0.0\n",
       "1       2.0.0\n",
       "2       1.2.4\n",
       "3           0\n",
       "4         1.1\n",
       "5           1\n",
       "6         1.1\n",
       "7    6.1.61.1\n",
       "8       2.9.2\n",
       "9         2.8\n",
       "Name: Current Ver, dtype: object"
      ]
     },
     "execution_count": 1112,
     "metadata": {},
     "output_type": "execute_result"
    }
   ],
   "source": [
    "#lets check replaced data\n",
    "play[\"Current Ver\"].head(10)"
   ]
  },
  {
   "cell_type": "code",
   "execution_count": 1113,
   "id": "55318e5f",
   "metadata": {},
   "outputs": [
    {
     "data": {
      "text/plain": [
       "0        False\n",
       "1        False\n",
       "2        False\n",
       "3        False\n",
       "4        False\n",
       "         ...  \n",
       "10836    False\n",
       "10837    False\n",
       "10838    False\n",
       "10839    False\n",
       "10840    False\n",
       "Name: Current Ver, Length: 10352, dtype: bool"
      ]
     },
     "execution_count": 1113,
     "metadata": {},
     "output_type": "execute_result"
    }
   ],
   "source": [
    "play[\"Current Ver\"].isnull().sum()\n",
    "play[\"Current Ver\"].isnull()\n",
    "# Values are already nan in dataset\n",
    "# play[\"Current Ver\"].replace([\"nan\"], \"NaN\", inplace=True)"
   ]
  },
  {
   "cell_type": "code",
   "execution_count": 1114,
   "id": "4dd71225",
   "metadata": {},
   "outputs": [
    {
     "name": "stdout",
     "output_type": "stream",
     "text": [
      "['4.0.3 and up' '4.2 and up' '4.4 and up' '2.3 and up' '3.0 and up'\n",
      " '4.1 and up' '4.0 and up' '2.3.3 and up' 'Varies with device'\n",
      " '2.2 and up' '5.0 and up' '6.0 and up' '1.6 and up' '1.5 and up'\n",
      " '2.1 and up' '7.0 and up' '5.1 and up' '4.3 and up' '4.0.3 - 7.1.1'\n",
      " '2.0 and up' '3.2 and up' '4.4W and up' '7.1 and up' '7.0 - 7.1.1'\n",
      " '8.0 and up' '5.0 - 8.0' '3.1 and up' '2.0.1 and up' '4.1 - 7.1.1' nan\n",
      " '5.0 - 6.0' '1.0 and up' '2.2 - 7.1.1' '5.0 - 7.1.1']\n"
     ]
    }
   ],
   "source": [
    "#Cleaning for Android Ver column\n",
    "print(play[\"Android Ver\"].unique())\n",
    "play[\"Android Ver\"].isnull().sum()\n",
    "\n",
    "\n",
    "\n",
    "#Fill the nan values with previous values\n",
    "play[\"Android Ver\"].fillna(method=\"pad\",inplace=True)\n"
   ]
  },
  {
   "cell_type": "code",
   "execution_count": 1115,
   "id": "786afd28",
   "metadata": {},
   "outputs": [],
   "source": [
    "#Lets convert Varies with device nan\n",
    "play[\"Android Ver\"]=play[\"Android Ver\"].str.replace(\"Varies with device\",\"nan\")\n"
   ]
  },
  {
   "cell_type": "code",
   "execution_count": 1116,
   "id": "674d055b",
   "metadata": {},
   "outputs": [
    {
     "name": "stdout",
     "output_type": "stream",
     "text": [
      "['4.0.3 and up' '4.2 and up' '4.4 and up' '2.3 and up' '3.0 and up'\n",
      " '4.1 and up' '4.0 and up' '2.3.3 and up' 'nan' '2.2 and up' '5.0 and up'\n",
      " '6.0 and up' '1.6 and up' '1.5 and up' '2.1 and up' '7.0 and up'\n",
      " '5.1 and up' '4.3 and up' '4.0.3 - 7.1.1' '2.0 and up' '3.2 and up'\n",
      " '4.4W and up' '7.1 and up' '7.0 - 7.1.1' '8.0 and up' '5.0 - 8.0'\n",
      " '3.1 and up' '2.0.1 and up' '4.1 - 7.1.1' '5.0 - 6.0' '1.0 and up'\n",
      " '2.2 - 7.1.1' '5.0 - 7.1.1']\n"
     ]
    }
   ],
   "source": [
    "print(play[\"Android Ver\"].unique())"
   ]
  },
  {
   "cell_type": "code",
   "execution_count": 1117,
   "id": "b21b1bb7",
   "metadata": {},
   "outputs": [],
   "source": [
    "#Now lets fill nan values with previous values \n",
    "play[\"Android Ver\"].fillna(method=\"pad\",inplace=True)"
   ]
  },
  {
   "cell_type": "code",
   "execution_count": 1118,
   "id": "14d4c839",
   "metadata": {},
   "outputs": [],
   "source": [
    "#Now lets convert rest of nan values to unavailable\n",
    "play[\"Android Ver\"]=play[\"Android Ver\"].str.replace(\"nan\",\"Unavailable\")\n"
   ]
  },
  {
   "cell_type": "code",
   "execution_count": 1119,
   "id": "2377323d",
   "metadata": {},
   "outputs": [
    {
     "data": {
      "text/plain": [
       "0"
      ]
     },
     "execution_count": 1119,
     "metadata": {},
     "output_type": "execute_result"
    }
   ],
   "source": [
    "play[\"Android Ver\"].isnull().sum()#Chek nan values again"
   ]
  },
  {
   "cell_type": "code",
   "execution_count": 1120,
   "id": "eb3b6bc7",
   "metadata": {},
   "outputs": [],
   "source": [
    "play.to_csv(r'D:\\playstore_Live_Project\\playstoreliveproj\\Cleaned_Playstore_Apps.csv',index=False)"
   ]
  },
  {
   "cell_type": "code",
   "execution_count": null,
   "id": "f32b9151",
   "metadata": {},
   "outputs": [],
   "source": []
  }
 ],
 "metadata": {
  "kernelspec": {
   "display_name": "Python 3 (ipykernel)",
   "language": "python",
   "name": "python3"
  },
  "language_info": {
   "codemirror_mode": {
    "name": "ipython",
    "version": 3
   },
   "file_extension": ".py",
   "mimetype": "text/x-python",
   "name": "python",
   "nbconvert_exporter": "python",
   "pygments_lexer": "ipython3",
   "version": "3.8.11"
  }
 },
 "nbformat": 4,
 "nbformat_minor": 5
}
