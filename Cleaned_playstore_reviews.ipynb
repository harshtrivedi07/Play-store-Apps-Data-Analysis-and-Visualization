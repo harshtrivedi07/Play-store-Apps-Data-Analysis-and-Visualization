{
 "cells": [
  {
   "cell_type": "code",
   "execution_count": 332,
   "id": "c8d09fb3",
   "metadata": {},
   "outputs": [
    {
     "data": {
      "text/html": [
       "<div>\n",
       "<style scoped>\n",
       "    .dataframe tbody tr th:only-of-type {\n",
       "        vertical-align: middle;\n",
       "    }\n",
       "\n",
       "    .dataframe tbody tr th {\n",
       "        vertical-align: top;\n",
       "    }\n",
       "\n",
       "    .dataframe thead th {\n",
       "        text-align: right;\n",
       "    }\n",
       "</style>\n",
       "<table border=\"1\" class=\"dataframe\">\n",
       "  <thead>\n",
       "    <tr style=\"text-align: right;\">\n",
       "      <th></th>\n",
       "      <th>App</th>\n",
       "      <th>Translated_Review</th>\n",
       "      <th>Sentiment</th>\n",
       "      <th>Sentiment_Polarity</th>\n",
       "      <th>Sentiment_Subjectivity</th>\n",
       "    </tr>\n",
       "  </thead>\n",
       "  <tbody>\n",
       "    <tr>\n",
       "      <th>0</th>\n",
       "      <td>10 Best Foods for You</td>\n",
       "      <td>I like eat delicious food. That's I'm cooking ...</td>\n",
       "      <td>Positive</td>\n",
       "      <td>1.00</td>\n",
       "      <td>0.533333</td>\n",
       "    </tr>\n",
       "    <tr>\n",
       "      <th>1</th>\n",
       "      <td>10 Best Foods for You</td>\n",
       "      <td>This help eating healthy exercise regular basis</td>\n",
       "      <td>Positive</td>\n",
       "      <td>0.25</td>\n",
       "      <td>0.288462</td>\n",
       "    </tr>\n",
       "    <tr>\n",
       "      <th>2</th>\n",
       "      <td>10 Best Foods for You</td>\n",
       "      <td>NaN</td>\n",
       "      <td>NaN</td>\n",
       "      <td>NaN</td>\n",
       "      <td>NaN</td>\n",
       "    </tr>\n",
       "    <tr>\n",
       "      <th>3</th>\n",
       "      <td>10 Best Foods for You</td>\n",
       "      <td>Works great especially going grocery store</td>\n",
       "      <td>Positive</td>\n",
       "      <td>0.40</td>\n",
       "      <td>0.875000</td>\n",
       "    </tr>\n",
       "    <tr>\n",
       "      <th>4</th>\n",
       "      <td>10 Best Foods for You</td>\n",
       "      <td>Best idea us</td>\n",
       "      <td>Positive</td>\n",
       "      <td>1.00</td>\n",
       "      <td>0.300000</td>\n",
       "    </tr>\n",
       "    <tr>\n",
       "      <th>...</th>\n",
       "      <td>...</td>\n",
       "      <td>...</td>\n",
       "      <td>...</td>\n",
       "      <td>...</td>\n",
       "      <td>...</td>\n",
       "    </tr>\n",
       "    <tr>\n",
       "      <th>64290</th>\n",
       "      <td>Houzz Interior Design Ideas</td>\n",
       "      <td>NaN</td>\n",
       "      <td>NaN</td>\n",
       "      <td>NaN</td>\n",
       "      <td>NaN</td>\n",
       "    </tr>\n",
       "    <tr>\n",
       "      <th>64291</th>\n",
       "      <td>Houzz Interior Design Ideas</td>\n",
       "      <td>NaN</td>\n",
       "      <td>NaN</td>\n",
       "      <td>NaN</td>\n",
       "      <td>NaN</td>\n",
       "    </tr>\n",
       "    <tr>\n",
       "      <th>64292</th>\n",
       "      <td>Houzz Interior Design Ideas</td>\n",
       "      <td>NaN</td>\n",
       "      <td>NaN</td>\n",
       "      <td>NaN</td>\n",
       "      <td>NaN</td>\n",
       "    </tr>\n",
       "    <tr>\n",
       "      <th>64293</th>\n",
       "      <td>Houzz Interior Design Ideas</td>\n",
       "      <td>NaN</td>\n",
       "      <td>NaN</td>\n",
       "      <td>NaN</td>\n",
       "      <td>NaN</td>\n",
       "    </tr>\n",
       "    <tr>\n",
       "      <th>64294</th>\n",
       "      <td>Houzz Interior Design Ideas</td>\n",
       "      <td>NaN</td>\n",
       "      <td>NaN</td>\n",
       "      <td>NaN</td>\n",
       "      <td>NaN</td>\n",
       "    </tr>\n",
       "  </tbody>\n",
       "</table>\n",
       "<p>64295 rows × 5 columns</p>\n",
       "</div>"
      ],
      "text/plain": [
       "                               App  \\\n",
       "0            10 Best Foods for You   \n",
       "1            10 Best Foods for You   \n",
       "2            10 Best Foods for You   \n",
       "3            10 Best Foods for You   \n",
       "4            10 Best Foods for You   \n",
       "...                            ...   \n",
       "64290  Houzz Interior Design Ideas   \n",
       "64291  Houzz Interior Design Ideas   \n",
       "64292  Houzz Interior Design Ideas   \n",
       "64293  Houzz Interior Design Ideas   \n",
       "64294  Houzz Interior Design Ideas   \n",
       "\n",
       "                                       Translated_Review Sentiment  \\\n",
       "0      I like eat delicious food. That's I'm cooking ...  Positive   \n",
       "1        This help eating healthy exercise regular basis  Positive   \n",
       "2                                                    NaN       NaN   \n",
       "3             Works great especially going grocery store  Positive   \n",
       "4                                           Best idea us  Positive   \n",
       "...                                                  ...       ...   \n",
       "64290                                                NaN       NaN   \n",
       "64291                                                NaN       NaN   \n",
       "64292                                                NaN       NaN   \n",
       "64293                                                NaN       NaN   \n",
       "64294                                                NaN       NaN   \n",
       "\n",
       "       Sentiment_Polarity  Sentiment_Subjectivity  \n",
       "0                    1.00                0.533333  \n",
       "1                    0.25                0.288462  \n",
       "2                     NaN                     NaN  \n",
       "3                    0.40                0.875000  \n",
       "4                    1.00                0.300000  \n",
       "...                   ...                     ...  \n",
       "64290                 NaN                     NaN  \n",
       "64291                 NaN                     NaN  \n",
       "64292                 NaN                     NaN  \n",
       "64293                 NaN                     NaN  \n",
       "64294                 NaN                     NaN  \n",
       "\n",
       "[64295 rows x 5 columns]"
      ]
     },
     "execution_count": 332,
     "metadata": {},
     "output_type": "execute_result"
    }
   ],
   "source": [
    "import pandas as pd\n",
    "import numpy as np\n",
    "from numpy import nan\n",
    "\n",
    "playr=pd.read_csv(\"D:\\playstore_Live_Project\\playstoreliveproj\\Original Dataset\\playstore_reviews.csv\")\n",
    "playr"
   ]
  },
  {
   "cell_type": "code",
   "execution_count": 333,
   "id": "2c1c0814",
   "metadata": {},
   "outputs": [
    {
     "name": "stdout",
     "output_type": "stream",
     "text": [
      "<class 'pandas.core.frame.DataFrame'>\n",
      "Int64Index: 30679 entries, 0 to 64236\n",
      "Data columns (total 5 columns):\n",
      " #   Column                  Non-Null Count  Dtype  \n",
      "---  ------                  --------------  -----  \n",
      " 0   App                     30679 non-null  object \n",
      " 1   Translated_Review       29692 non-null  object \n",
      " 2   Sentiment               29697 non-null  object \n",
      " 3   Sentiment_Polarity      29697 non-null  float64\n",
      " 4   Sentiment_Subjectivity  29697 non-null  float64\n",
      "dtypes: float64(2), object(3)\n",
      "memory usage: 1.4+ MB\n"
     ]
    },
    {
     "data": {
      "text/plain": [
       "(30679, 5)"
      ]
     },
     "execution_count": 333,
     "metadata": {},
     "output_type": "execute_result"
    }
   ],
   "source": [
    "#Remove duplicates values\n",
    "playr.drop_duplicates(keep= 'first',inplace = True) \n",
    "playr.info()\n",
    "playr.shape"
   ]
  },
  {
   "cell_type": "code",
   "execution_count": 334,
   "id": "d80bc424",
   "metadata": {},
   "outputs": [
    {
     "name": "stdout",
     "output_type": "stream",
     "text": [
      "38955\n"
     ]
    }
   ],
   "source": [
    "#Total unique values in our dataset\n",
    "print(playr.nunique().sum())"
   ]
  },
  {
   "cell_type": "code",
   "execution_count": 335,
   "id": "e76fec1c",
   "metadata": {},
   "outputs": [
    {
     "data": {
      "text/html": [
       "<div>\n",
       "<style scoped>\n",
       "    .dataframe tbody tr th:only-of-type {\n",
       "        vertical-align: middle;\n",
       "    }\n",
       "\n",
       "    .dataframe tbody tr th {\n",
       "        vertical-align: top;\n",
       "    }\n",
       "\n",
       "    .dataframe thead th {\n",
       "        text-align: right;\n",
       "    }\n",
       "</style>\n",
       "<table border=\"1\" class=\"dataframe\">\n",
       "  <thead>\n",
       "    <tr style=\"text-align: right;\">\n",
       "      <th></th>\n",
       "      <th>App</th>\n",
       "      <th>Translated_Review</th>\n",
       "      <th>Sentiment</th>\n",
       "      <th>Sentiment_Polarity</th>\n",
       "      <th>Sentiment_Subjectivity</th>\n",
       "    </tr>\n",
       "  </thead>\n",
       "  <tbody>\n",
       "    <tr>\n",
       "      <th>0</th>\n",
       "      <td>10 Best Foods for You</td>\n",
       "      <td>I like eat delicious food. That's I'm cooking ...</td>\n",
       "      <td>Positive</td>\n",
       "      <td>1.00</td>\n",
       "      <td>0.533333</td>\n",
       "    </tr>\n",
       "    <tr>\n",
       "      <th>1</th>\n",
       "      <td>10 Best Foods for You</td>\n",
       "      <td>This help eating healthy exercise regular basis</td>\n",
       "      <td>Positive</td>\n",
       "      <td>0.25</td>\n",
       "      <td>0.288462</td>\n",
       "    </tr>\n",
       "    <tr>\n",
       "      <th>2</th>\n",
       "      <td>10 Best Foods for You</td>\n",
       "      <td>NaN</td>\n",
       "      <td>NaN</td>\n",
       "      <td>NaN</td>\n",
       "      <td>NaN</td>\n",
       "    </tr>\n",
       "    <tr>\n",
       "      <th>3</th>\n",
       "      <td>10 Best Foods for You</td>\n",
       "      <td>Works great especially going grocery store</td>\n",
       "      <td>Positive</td>\n",
       "      <td>0.40</td>\n",
       "      <td>0.875000</td>\n",
       "    </tr>\n",
       "    <tr>\n",
       "      <th>4</th>\n",
       "      <td>10 Best Foods for You</td>\n",
       "      <td>Best idea us</td>\n",
       "      <td>Positive</td>\n",
       "      <td>1.00</td>\n",
       "      <td>0.300000</td>\n",
       "    </tr>\n",
       "    <tr>\n",
       "      <th>5</th>\n",
       "      <td>10 Best Foods for You</td>\n",
       "      <td>Best way</td>\n",
       "      <td>Positive</td>\n",
       "      <td>1.00</td>\n",
       "      <td>0.300000</td>\n",
       "    </tr>\n",
       "    <tr>\n",
       "      <th>6</th>\n",
       "      <td>10 Best Foods for You</td>\n",
       "      <td>Amazing</td>\n",
       "      <td>Positive</td>\n",
       "      <td>0.60</td>\n",
       "      <td>0.900000</td>\n",
       "    </tr>\n",
       "    <tr>\n",
       "      <th>8</th>\n",
       "      <td>10 Best Foods for You</td>\n",
       "      <td>Looking forward app,</td>\n",
       "      <td>Neutral</td>\n",
       "      <td>0.00</td>\n",
       "      <td>0.000000</td>\n",
       "    </tr>\n",
       "    <tr>\n",
       "      <th>9</th>\n",
       "      <td>10 Best Foods for You</td>\n",
       "      <td>It helpful site ! It help foods get !</td>\n",
       "      <td>Neutral</td>\n",
       "      <td>0.00</td>\n",
       "      <td>0.000000</td>\n",
       "    </tr>\n",
       "    <tr>\n",
       "      <th>10</th>\n",
       "      <td>10 Best Foods for You</td>\n",
       "      <td>good you.</td>\n",
       "      <td>Positive</td>\n",
       "      <td>0.70</td>\n",
       "      <td>0.600000</td>\n",
       "    </tr>\n",
       "  </tbody>\n",
       "</table>\n",
       "</div>"
      ],
      "text/plain": [
       "                      App                                  Translated_Review  \\\n",
       "0   10 Best Foods for You  I like eat delicious food. That's I'm cooking ...   \n",
       "1   10 Best Foods for You    This help eating healthy exercise regular basis   \n",
       "2   10 Best Foods for You                                                NaN   \n",
       "3   10 Best Foods for You         Works great especially going grocery store   \n",
       "4   10 Best Foods for You                                       Best idea us   \n",
       "5   10 Best Foods for You                                           Best way   \n",
       "6   10 Best Foods for You                                            Amazing   \n",
       "8   10 Best Foods for You                               Looking forward app,   \n",
       "9   10 Best Foods for You              It helpful site ! It help foods get !   \n",
       "10  10 Best Foods for You                                          good you.   \n",
       "\n",
       "   Sentiment  Sentiment_Polarity  Sentiment_Subjectivity  \n",
       "0   Positive                1.00                0.533333  \n",
       "1   Positive                0.25                0.288462  \n",
       "2        NaN                 NaN                     NaN  \n",
       "3   Positive                0.40                0.875000  \n",
       "4   Positive                1.00                0.300000  \n",
       "5   Positive                1.00                0.300000  \n",
       "6   Positive                0.60                0.900000  \n",
       "8    Neutral                0.00                0.000000  \n",
       "9    Neutral                0.00                0.000000  \n",
       "10  Positive                0.70                0.600000  "
      ]
     },
     "execution_count": 335,
     "metadata": {},
     "output_type": "execute_result"
    }
   ],
   "source": [
    "playr.head(10)\n"
   ]
  },
  {
   "cell_type": "code",
   "execution_count": 336,
   "id": "0120a8b1",
   "metadata": {},
   "outputs": [
    {
     "data": {
      "text/plain": [
       "array(['10 Best Foods for You', '104 找工作 - 找工作 找打工 找兼職 履歷健檢 履歷診療室',\n",
       "       '11st', ..., 'Hotwire Hotel & Car Rental App',\n",
       "       'Housing-Real Estate & Property', 'Houzz Interior Design Ideas'],\n",
       "      dtype=object)"
      ]
     },
     "execution_count": 336,
     "metadata": {},
     "output_type": "execute_result"
    }
   ],
   "source": [
    "#Cleaning for app column\n",
    "playr[\"App\"].unique()"
   ]
  },
  {
   "cell_type": "markdown",
   "id": "70ac9e15",
   "metadata": {},
   "source": [
    "Here, in above unique results we can see that some of the data in different language and some of the special characters.Now, we will going to remove those data first.   "
   ]
  },
  {
   "cell_type": "markdown",
   "id": "5800d515",
   "metadata": {},
   "source": [
    "Above cell is just for checking the data.Earlier I have removed index from our dataframe so that we can see all  the individual different data.  "
   ]
  },
  {
   "cell_type": "code",
   "execution_count": 337,
   "id": "668c5b07",
   "metadata": {},
   "outputs": [
    {
     "name": "stderr",
     "output_type": "stream",
     "text": [
      "C:\\Users\\harsh\\AppData\\Local\\Temp/ipykernel_21492/689135603.py:10: FutureWarning: The default value of regex will change from True to False in a future version.\n",
      "  playr[\"App\"]=playr[\"App\"].str.replace(r\"Недвижимость. Купить, снять квартиру.\",\"\")\n"
     ]
    }
   ],
   "source": [
    "#lets remove Unknown words and some special characters \n",
    "playr[\"App\"]=playr[\"App\"].str.replace(r\"找工作 - 找工作 找打工 找兼職 履歷健檢 履歷診療室\",\"\")\n",
    "playr[\"App\"]=playr[\"App\"].str.replace(r\"房屋交易-租屋、中古屋、新建案、實價登錄、別墅透天、公寓套房、捷運、買房賣房行情、房價房貸查詢\",\"\")\n",
    "playr[\"App\"]=playr[\"App\"].str.replace(r\"房屋交易-香港\",\"\")\n",
    "playr[\"App\"]=playr[\"App\"].str.replace(r\"–\",\"\")\n",
    "playr[\"App\"]=playr[\"App\"].str.replace(r\"’\",\"\")\n",
    "playr[\"App\"]=playr[\"App\"].str.replace(r\"蘋果動新聞\",\"\")\n",
    "playr[\"App\"]=playr[\"App\"].str.replace(r\"- 無料レシピ動画で料理を楽しく・簡単に！\",\"\")\n",
    "playr[\"App\"]=playr[\"App\"].str.replace(r\"–Доставка еды:пицца,суши,бургер,салат\",\"\")\n",
    "playr[\"App\"]=playr[\"App\"].str.replace(r\"Недвижимость. Купить, снять квартиру.\",\"\")\n",
    "playr[\"App\"]=playr[\"App\"].str.replace(r\"- オリジナル漫画が全話無料で読み放題\",\"\")\n"
   ]
  },
  {
   "cell_type": "code",
   "execution_count": 338,
   "id": "cebdb7bb",
   "metadata": {},
   "outputs": [],
   "source": [
    "playr.set_index('App', inplace=True)"
   ]
  },
  {
   "cell_type": "code",
   "execution_count": 339,
   "id": "76d4d2ba",
   "metadata": {},
   "outputs": [
    {
     "data": {
      "text/plain": [
       "App\n",
       "104     104 job hunt So amazing.. easy use.. thanx guys\n",
       "Name: Translated_Review, dtype: object"
      ]
     },
     "execution_count": 339,
     "metadata": {},
     "output_type": "execute_result"
    }
   ],
   "source": [
    "#Lets check our removed data\n",
    "playr[\"Translated_Review\"].loc[playr[\"Translated_Review\"]== \"104 job hunt So amazing.. easy use.. thanx guys\"]\n"
   ]
  },
  {
   "cell_type": "code",
   "execution_count": 340,
   "id": "cfae827e",
   "metadata": {},
   "outputs": [
    {
     "data": {
      "text/plain": [
       "987"
      ]
     },
     "execution_count": 340,
     "metadata": {},
     "output_type": "execute_result"
    }
   ],
   "source": [
    "#Cleaning for transleted review\n",
    "playr[\"Translated_Review\"].unique()\n",
    "playr[\"Translated_Review\"].isnull().sum()\n"
   ]
  },
  {
   "cell_type": "code",
   "execution_count": 341,
   "id": "cf98aee9",
   "metadata": {},
   "outputs": [
    {
     "name": "stdout",
     "output_type": "stream",
     "text": [
      "None\n"
     ]
    }
   ],
   "source": [
    "print(playr.dropna(subset=['Translated_Review'],inplace=True))#Remove nan values "
   ]
  },
  {
   "cell_type": "code",
   "execution_count": 342,
   "id": "1214438e",
   "metadata": {},
   "outputs": [
    {
     "data": {
      "text/plain": [
       "App\n",
       "DELISH KITCHEN     ___ ___ ___ ___ ___ 0\n",
       "Name: Translated_Review, dtype: object"
      ]
     },
     "execution_count": 342,
     "metadata": {},
     "output_type": "execute_result"
    }
   ],
   "source": [
    "playr[\"Translated_Review\"].loc[playr[\"Translated_Review\"]== \"___ ___ ___ ___ ___ 0\"]\n",
    "# playr[\"Sentiment_Subjectivity\"].loc[playr[\"Sentiment_Subjectivity\"]== 0.83]\n"
   ]
  },
  {
   "cell_type": "code",
   "execution_count": 343,
   "id": "77848242",
   "metadata": {},
   "outputs": [
    {
     "data": {
      "text/plain": [
       "App\n",
       "Domofond     5*\n",
       "Name: Translated_Review, dtype: object"
      ]
     },
     "execution_count": 343,
     "metadata": {},
     "output_type": "execute_result"
    }
   ],
   "source": [
    "playr[\"Translated_Review\"].loc[playr[\"Translated_Review\"]== \"5*\"]"
   ]
  },
  {
   "cell_type": "code",
   "execution_count": 344,
   "id": "c7e62495",
   "metadata": {},
   "outputs": [
    {
     "data": {
      "text/plain": [
       "App\n",
       "Baby Panda Musical Genius    :-)\n",
       "Name: Translated_Review, dtype: object"
      ]
     },
     "execution_count": 344,
     "metadata": {},
     "output_type": "execute_result"
    }
   ],
   "source": [
    "playr[\"Translated_Review\"].loc[playr[\"Translated_Review\"]== \":-)\"]"
   ]
  },
  {
   "cell_type": "code",
   "execution_count": 345,
   "id": "f5326f12",
   "metadata": {},
   "outputs": [
    {
     "data": {
      "text/plain": [
       "App\n",
       "ABC Preschool Free    ? ...... ummmmmmmmmmmmmmmmmmmm\n",
       "Name: Translated_Review, dtype: object"
      ]
     },
     "execution_count": 345,
     "metadata": {},
     "output_type": "execute_result"
    }
   ],
   "source": [
    "playr[\"Translated_Review\"].loc[playr[\"Translated_Review\"]== \"? ...... ummmmmmmmmmmmmmmmmmmm\"]"
   ]
  },
  {
   "cell_type": "code",
   "execution_count": 346,
   "id": "896ca3b7",
   "metadata": {},
   "outputs": [
    {
     "name": "stderr",
     "output_type": "stream",
     "text": [
      "C:\\Users\\harsh\\AppData\\Local\\Temp/ipykernel_21492/3198940676.py:2: FutureWarning: The default value of regex will change from True to False in a future version.\n",
      "  playr[\"Translated_Review\"]=playr[\"Translated_Review\"].str.replace(r\"\\? ...... \",\"\")\n",
      "C:\\Users\\harsh\\AppData\\Local\\Temp/ipykernel_21492/3198940676.py:3: FutureWarning: The default value of regex will change from True to False in a future version.\n",
      "  playr[\"Translated_Review\"]=playr[\"Translated_Review\"].str.replace(r\"\\#\",\"\")\n",
      "C:\\Users\\harsh\\AppData\\Local\\Temp/ipykernel_21492/3198940676.py:4: FutureWarning: The default value of regex will change from True to False in a future version.\n",
      "  playr[\"Translated_Review\"]=playr[\"Translated_Review\"].str.replace(r\"\\!\",\"\")\n",
      "C:\\Users\\harsh\\AppData\\Local\\Temp/ipykernel_21492/3198940676.py:5: FutureWarning: The default value of regex will change from True to False in a future version.\n",
      "  playr[\"Translated_Review\"]=playr[\"Translated_Review\"].str.replace(r\"\\@\",\"\")\n",
      "C:\\Users\\harsh\\AppData\\Local\\Temp/ipykernel_21492/3198940676.py:6: FutureWarning: The default value of regex will change from True to False in a future version.\n",
      "  playr[\"Translated_Review\"]=playr[\"Translated_Review\"].str.replace(r\"\\(\",\"\")\n",
      "C:\\Users\\harsh\\AppData\\Local\\Temp/ipykernel_21492/3198940676.py:7: FutureWarning: The default value of regex will change from True to False in a future version.\n",
      "  playr[\"Translated_Review\"]=playr[\"Translated_Review\"].str.replace(r\"\\*\",\"\")\n",
      "C:\\Users\\harsh\\AppData\\Local\\Temp/ipykernel_21492/3198940676.py:8: FutureWarning: The default value of regex will change from True to False in a future version.\n",
      "  playr[\"Translated_Review\"]=playr[\"Translated_Review\"].str.replace(r\"\\-\",\"\")\n",
      "C:\\Users\\harsh\\AppData\\Local\\Temp/ipykernel_21492/3198940676.py:9: FutureWarning: The default value of regex will change from True to False in a future version.\n",
      "  playr[\"Translated_Review\"]=playr[\"Translated_Review\"].str.replace(r\"\\+\",\"\")\n",
      "C:\\Users\\harsh\\AppData\\Local\\Temp/ipykernel_21492/3198940676.py:10: FutureWarning: The default value of regex will change from True to False in a future version.\n",
      "  playr[\"Translated_Review\"]=playr[\"Translated_Review\"].str.replace(r\"\\_\",\"\")\n",
      "C:\\Users\\harsh\\AppData\\Local\\Temp/ipykernel_21492/3198940676.py:11: FutureWarning: The default value of regex will change from True to False in a future version.\n",
      "  playr[\"Translated_Review\"]=playr[\"Translated_Review\"].str.replace(r\"\\''\",\"\")\n",
      "C:\\Users\\harsh\\AppData\\Local\\Temp/ipykernel_21492/3198940676.py:12: FutureWarning: The default value of regex will change from True to False in a future version.\n",
      "  playr[\"Translated_Review\"]=playr[\"Translated_Review\"].str.replace(r\"\\)\",\"\")\n",
      "C:\\Users\\harsh\\AppData\\Local\\Temp/ipykernel_21492/3198940676.py:13: FutureWarning: The default value of regex will change from True to False in a future version.\n",
      "  playr[\"Translated_Review\"]=playr[\"Translated_Review\"].str.replace(r\"\\%\",\"\")\n",
      "C:\\Users\\harsh\\AppData\\Local\\Temp/ipykernel_21492/3198940676.py:14: FutureWarning: The default value of regex will change from True to False in a future version.\n",
      "  playr[\"Translated_Review\"]=playr[\"Translated_Review\"].str.replace(r\"\\$\",\"\")\n",
      "C:\\Users\\harsh\\AppData\\Local\\Temp/ipykernel_21492/3198940676.py:15: FutureWarning: The default value of regex will change from True to False in a future version.\n",
      "  playr[\"Translated_Review\"]=playr[\"Translated_Review\"].str.replace(r\"\\:\",\"\")\n"
     ]
    }
   ],
   "source": [
    "#Here we have replace special characters\n",
    "playr[\"Translated_Review\"]=playr[\"Translated_Review\"].str.replace(r\"\\? ...... \",\"\")\n",
    "playr[\"Translated_Review\"]=playr[\"Translated_Review\"].str.replace(r\"\\#\",\"\")\n",
    "playr[\"Translated_Review\"]=playr[\"Translated_Review\"].str.replace(r\"\\!\",\"\")\n",
    "playr[\"Translated_Review\"]=playr[\"Translated_Review\"].str.replace(r\"\\@\",\"\")\n",
    "playr[\"Translated_Review\"]=playr[\"Translated_Review\"].str.replace(r\"\\(\",\"\")\n",
    "playr[\"Translated_Review\"]=playr[\"Translated_Review\"].str.replace(r\"\\*\",\"\")\n",
    "playr[\"Translated_Review\"]=playr[\"Translated_Review\"].str.replace(r\"\\-\",\"\")\n",
    "playr[\"Translated_Review\"]=playr[\"Translated_Review\"].str.replace(r\"\\+\",\"\")\n",
    "playr[\"Translated_Review\"]=playr[\"Translated_Review\"].str.replace(r\"\\_\",\"\")\n",
    "playr[\"Translated_Review\"]=playr[\"Translated_Review\"].str.replace(r\"\\''\",\"\")\n",
    "playr[\"Translated_Review\"]=playr[\"Translated_Review\"].str.replace(r\"\\)\",\"\")\n",
    "playr[\"Translated_Review\"]=playr[\"Translated_Review\"].str.replace(r\"\\%\",\"\")\n",
    "playr[\"Translated_Review\"]=playr[\"Translated_Review\"].str.replace(r\"\\$\",\"\")\n",
    "playr[\"Translated_Review\"]=playr[\"Translated_Review\"].str.replace(r\"\\:\",\"\")\n"
   ]
  },
  {
   "cell_type": "code",
   "execution_count": 347,
   "id": "d9734181",
   "metadata": {},
   "outputs": [
    {
     "data": {
      "text/html": [
       "<div>\n",
       "<style scoped>\n",
       "    .dataframe tbody tr th:only-of-type {\n",
       "        vertical-align: middle;\n",
       "    }\n",
       "\n",
       "    .dataframe tbody tr th {\n",
       "        vertical-align: top;\n",
       "    }\n",
       "\n",
       "    .dataframe thead th {\n",
       "        text-align: right;\n",
       "    }\n",
       "</style>\n",
       "<table border=\"1\" class=\"dataframe\">\n",
       "  <thead>\n",
       "    <tr style=\"text-align: right;\">\n",
       "      <th></th>\n",
       "      <th>Translated_Review</th>\n",
       "      <th>Sentiment</th>\n",
       "      <th>Sentiment_Polarity</th>\n",
       "      <th>Sentiment_Subjectivity</th>\n",
       "    </tr>\n",
       "    <tr>\n",
       "      <th>App</th>\n",
       "      <th></th>\n",
       "      <th></th>\n",
       "      <th></th>\n",
       "      <th></th>\n",
       "    </tr>\n",
       "  </thead>\n",
       "  <tbody>\n",
       "    <tr>\n",
       "      <th>Apple Daily</th>\n",
       "      <td>Advertising washes and washes L, the stock pri...</td>\n",
       "      <td>Positive</td>\n",
       "      <td>0.500000</td>\n",
       "      <td>0.500000</td>\n",
       "    </tr>\n",
       "    <tr>\n",
       "      <th>Apple Daily</th>\n",
       "      <td>Data consumption huge, plz improve asap</td>\n",
       "      <td>Positive</td>\n",
       "      <td>1.000000</td>\n",
       "      <td>0.900000</td>\n",
       "    </tr>\n",
       "    <tr>\n",
       "      <th>Apple Daily</th>\n",
       "      <td>Come on Real Madrid</td>\n",
       "      <td>Positive</td>\n",
       "      <td>0.250000</td>\n",
       "      <td>0.300000</td>\n",
       "    </tr>\n",
       "    <tr>\n",
       "      <th>Apple Daily</th>\n",
       "      <td>Ads popup times sensitive u accidentally easil...</td>\n",
       "      <td>Negative</td>\n",
       "      <td>-0.008333</td>\n",
       "      <td>0.625000</td>\n",
       "    </tr>\n",
       "    <tr>\n",
       "      <th>Apple Daily</th>\n",
       "      <td>black screen still 1026 hrs 18 May 2018</td>\n",
       "      <td>Negative</td>\n",
       "      <td>-0.166667</td>\n",
       "      <td>0.433333</td>\n",
       "    </tr>\n",
       "    <tr>\n",
       "      <th>Apple Daily</th>\n",
       "      <td>Everything alright used period of time. But da...</td>\n",
       "      <td>Positive</td>\n",
       "      <td>0.200000</td>\n",
       "      <td>0.575000</td>\n",
       "    </tr>\n",
       "    <tr>\n",
       "      <th>Apple Daily</th>\n",
       "      <td>chromecast / google cast function please</td>\n",
       "      <td>Neutral</td>\n",
       "      <td>0.000000</td>\n",
       "      <td>0.000000</td>\n",
       "    </tr>\n",
       "    <tr>\n",
       "      <th>Apple Daily</th>\n",
       "      <td>The ads annoying.</td>\n",
       "      <td>Negative</td>\n",
       "      <td>-0.800000</td>\n",
       "      <td>0.900000</td>\n",
       "    </tr>\n",
       "    <tr>\n",
       "      <th>Apple Daily</th>\n",
       "      <td>More and more people are irritating, and the m...</td>\n",
       "      <td>Positive</td>\n",
       "      <td>0.275000</td>\n",
       "      <td>0.575000</td>\n",
       "    </tr>\n",
       "    <tr>\n",
       "      <th>Apple Daily</th>\n",
       "      <td>Not working. Show blank screen.</td>\n",
       "      <td>Neutral</td>\n",
       "      <td>0.000000</td>\n",
       "      <td>0.000000</td>\n",
       "    </tr>\n",
       "    <tr>\n",
       "      <th>Apple Daily</th>\n",
       "      <td>Can there be a setting to make it not display ...</td>\n",
       "      <td>Neutral</td>\n",
       "      <td>0.000000</td>\n",
       "      <td>0.000000</td>\n",
       "    </tr>\n",
       "    <tr>\n",
       "      <th>Apple Daily</th>\n",
       "      <td>Continuous improvement and perfection. it is g...</td>\n",
       "      <td>Positive</td>\n",
       "      <td>1.000000</td>\n",
       "      <td>0.600000</td>\n",
       "    </tr>\n",
       "    <tr>\n",
       "      <th>Apple Daily</th>\n",
       "      <td>Not working.... juz black screen</td>\n",
       "      <td>Negative</td>\n",
       "      <td>-0.166667</td>\n",
       "      <td>0.433333</td>\n",
       "    </tr>\n",
       "    <tr>\n",
       "      <th>Apple Daily</th>\n",
       "      <td>Completely solve the problem of bombing app. D...</td>\n",
       "      <td>Positive</td>\n",
       "      <td>0.100000</td>\n",
       "      <td>0.400000</td>\n",
       "    </tr>\n",
       "    <tr>\n",
       "      <th>Apple Daily</th>\n",
       "      <td>Antisupport must support</td>\n",
       "      <td>Neutral</td>\n",
       "      <td>0.000000</td>\n",
       "      <td>0.000000</td>\n",
       "    </tr>\n",
       "    <tr>\n",
       "      <th>Apple Daily</th>\n",
       "      <td>4☆</td>\n",
       "      <td>Neutral</td>\n",
       "      <td>0.000000</td>\n",
       "      <td>0.000000</td>\n",
       "    </tr>\n",
       "    <tr>\n",
       "      <th>Apple Daily</th>\n",
       "      <td>The crashes constantly upgrading latest versio...</td>\n",
       "      <td>Positive</td>\n",
       "      <td>0.101111</td>\n",
       "      <td>0.384444</td>\n",
       "    </tr>\n",
       "    <tr>\n",
       "      <th>Apple Daily</th>\n",
       "      <td>Keep crashing, forced close, can't read news a...</td>\n",
       "      <td>Positive</td>\n",
       "      <td>0.122222</td>\n",
       "      <td>0.344444</td>\n",
       "    </tr>\n",
       "    <tr>\n",
       "      <th>Apple Daily</th>\n",
       "      <td>New version shut suddenly</td>\n",
       "      <td>Positive</td>\n",
       "      <td>0.068182</td>\n",
       "      <td>0.477273</td>\n",
       "    </tr>\n",
       "    <tr>\n",
       "      <th>Apple Daily</th>\n",
       "      <td>Keep receiving Apple news notification, good n...</td>\n",
       "      <td>Positive</td>\n",
       "      <td>0.700000</td>\n",
       "      <td>0.600000</td>\n",
       "    </tr>\n",
       "    <tr>\n",
       "      <th>Apple Daily</th>\n",
       "      <td>forced update, crashes constantly, absolutely ...</td>\n",
       "      <td>Negative</td>\n",
       "      <td>-0.050000</td>\n",
       "      <td>0.550000</td>\n",
       "    </tr>\n",
       "    <tr>\n",
       "      <th>Apple Daily</th>\n",
       "      <td>Since the update is finished, it has been used...</td>\n",
       "      <td>Neutral</td>\n",
       "      <td>0.000000</td>\n",
       "      <td>0.000000</td>\n",
       "    </tr>\n",
       "    <tr>\n",
       "      <th>Apple Daily</th>\n",
       "      <td>I used the old machine update to app. Update i...</td>\n",
       "      <td>Positive</td>\n",
       "      <td>0.033333</td>\n",
       "      <td>0.400000</td>\n",
       "    </tr>\n",
       "    <tr>\n",
       "      <th>Apple Daily</th>\n",
       "      <td>The work.</td>\n",
       "      <td>Neutral</td>\n",
       "      <td>0.000000</td>\n",
       "      <td>0.000000</td>\n",
       "    </tr>\n",
       "    <tr>\n",
       "      <th>Apple Daily</th>\n",
       "      <td>Suddenly close update.</td>\n",
       "      <td>Neutral</td>\n",
       "      <td>0.000000</td>\n",
       "      <td>0.500000</td>\n",
       "    </tr>\n",
       "    <tr>\n",
       "      <th>Apple Daily</th>\n",
       "      <td>Force stop often.</td>\n",
       "      <td>Neutral</td>\n",
       "      <td>0.000000</td>\n",
       "      <td>0.000000</td>\n",
       "    </tr>\n",
       "    <tr>\n",
       "      <th>Apple Daily</th>\n",
       "      <td>Always forced</td>\n",
       "      <td>Negative</td>\n",
       "      <td>-0.300000</td>\n",
       "      <td>0.200000</td>\n",
       "    </tr>\n",
       "    <tr>\n",
       "      <th>Apple Daily</th>\n",
       "      <td>Keep playing app and messing up.</td>\n",
       "      <td>Neutral</td>\n",
       "      <td>0.000000</td>\n",
       "      <td>0.000000</td>\n",
       "    </tr>\n",
       "    <tr>\n",
       "      <th>Apple Daily</th>\n",
       "      <td>Crush &amp;bug</td>\n",
       "      <td>Neutral</td>\n",
       "      <td>0.000000</td>\n",
       "      <td>0.000000</td>\n",
       "    </tr>\n",
       "    <tr>\n",
       "      <th>Apple Daily</th>\n",
       "      <td>So annoying Every time go back is the first ne...</td>\n",
       "      <td>Negative</td>\n",
       "      <td>-0.119136</td>\n",
       "      <td>0.195062</td>\n",
       "    </tr>\n",
       "    <tr>\n",
       "      <th>Apple Daily</th>\n",
       "      <td>For many years, I looking notifications catego...</td>\n",
       "      <td>Positive</td>\n",
       "      <td>0.375000</td>\n",
       "      <td>0.500000</td>\n",
       "    </tr>\n",
       "    <tr>\n",
       "      <th>Apple Daily</th>\n",
       "      <td>No news pop long time, notifications</td>\n",
       "      <td>Negative</td>\n",
       "      <td>-0.050000</td>\n",
       "      <td>0.400000</td>\n",
       "    </tr>\n",
       "    <tr>\n",
       "      <th>Apple Daily</th>\n",
       "      <td>Hangs every time update</td>\n",
       "      <td>Neutral</td>\n",
       "      <td>0.000000</td>\n",
       "      <td>0.000000</td>\n",
       "    </tr>\n",
       "    <tr>\n",
       "      <th>Apple Daily</th>\n",
       "      <td>After the recent revision, it will be worse, w...</td>\n",
       "      <td>Negative</td>\n",
       "      <td>-0.250000</td>\n",
       "      <td>0.425000</td>\n",
       "    </tr>\n",
       "  </tbody>\n",
       "</table>\n",
       "</div>"
      ],
      "text/plain": [
       "                                              Translated_Review Sentiment  \\\n",
       "App                                                                         \n",
       "Apple Daily   Advertising washes and washes L, the stock pri...  Positive   \n",
       "Apple Daily             Data consumption huge, plz improve asap  Positive   \n",
       "Apple Daily                                 Come on Real Madrid  Positive   \n",
       "Apple Daily   Ads popup times sensitive u accidentally easil...  Negative   \n",
       "Apple Daily             black screen still 1026 hrs 18 May 2018  Negative   \n",
       "Apple Daily   Everything alright used period of time. But da...  Positive   \n",
       "Apple Daily            chromecast / google cast function please   Neutral   \n",
       "Apple Daily                                   The ads annoying.  Negative   \n",
       "Apple Daily   More and more people are irritating, and the m...  Positive   \n",
       "Apple Daily                     Not working. Show blank screen.   Neutral   \n",
       "Apple Daily   Can there be a setting to make it not display ...   Neutral   \n",
       "Apple Daily   Continuous improvement and perfection. it is g...  Positive   \n",
       "Apple Daily                    Not working.... juz black screen  Negative   \n",
       "Apple Daily   Completely solve the problem of bombing app. D...  Positive   \n",
       "Apple Daily                            Antisupport must support   Neutral   \n",
       "Apple Daily                                                  4☆   Neutral   \n",
       "Apple Daily   The crashes constantly upgrading latest versio...  Positive   \n",
       "Apple Daily   Keep crashing, forced close, can't read news a...  Positive   \n",
       "Apple Daily                           New version shut suddenly  Positive   \n",
       "Apple Daily   Keep receiving Apple news notification, good n...  Positive   \n",
       "Apple Daily   forced update, crashes constantly, absolutely ...  Negative   \n",
       "Apple Daily   Since the update is finished, it has been used...   Neutral   \n",
       "Apple Daily   I used the old machine update to app. Update i...  Positive   \n",
       "Apple Daily                                           The work.   Neutral   \n",
       "Apple Daily                              Suddenly close update.   Neutral   \n",
       "Apple Daily                                   Force stop often.   Neutral   \n",
       "Apple Daily                                       Always forced  Negative   \n",
       "Apple Daily                    Keep playing app and messing up.   Neutral   \n",
       "Apple Daily                                          Crush &bug   Neutral   \n",
       "Apple Daily   So annoying Every time go back is the first ne...  Negative   \n",
       "Apple Daily   For many years, I looking notifications catego...  Positive   \n",
       "Apple Daily                No news pop long time, notifications  Negative   \n",
       "Apple Daily                             Hangs every time update   Neutral   \n",
       "Apple Daily   After the recent revision, it will be worse, w...  Negative   \n",
       "\n",
       "              Sentiment_Polarity  Sentiment_Subjectivity  \n",
       "App                                                       \n",
       "Apple Daily             0.500000                0.500000  \n",
       "Apple Daily             1.000000                0.900000  \n",
       "Apple Daily             0.250000                0.300000  \n",
       "Apple Daily            -0.008333                0.625000  \n",
       "Apple Daily            -0.166667                0.433333  \n",
       "Apple Daily             0.200000                0.575000  \n",
       "Apple Daily             0.000000                0.000000  \n",
       "Apple Daily            -0.800000                0.900000  \n",
       "Apple Daily             0.275000                0.575000  \n",
       "Apple Daily             0.000000                0.000000  \n",
       "Apple Daily             0.000000                0.000000  \n",
       "Apple Daily             1.000000                0.600000  \n",
       "Apple Daily            -0.166667                0.433333  \n",
       "Apple Daily             0.100000                0.400000  \n",
       "Apple Daily             0.000000                0.000000  \n",
       "Apple Daily             0.000000                0.000000  \n",
       "Apple Daily             0.101111                0.384444  \n",
       "Apple Daily             0.122222                0.344444  \n",
       "Apple Daily             0.068182                0.477273  \n",
       "Apple Daily             0.700000                0.600000  \n",
       "Apple Daily            -0.050000                0.550000  \n",
       "Apple Daily             0.000000                0.000000  \n",
       "Apple Daily             0.033333                0.400000  \n",
       "Apple Daily             0.000000                0.000000  \n",
       "Apple Daily             0.000000                0.500000  \n",
       "Apple Daily             0.000000                0.000000  \n",
       "Apple Daily            -0.300000                0.200000  \n",
       "Apple Daily             0.000000                0.000000  \n",
       "Apple Daily             0.000000                0.000000  \n",
       "Apple Daily            -0.119136                0.195062  \n",
       "Apple Daily             0.375000                0.500000  \n",
       "Apple Daily            -0.050000                0.400000  \n",
       "Apple Daily             0.000000                0.000000  \n",
       "Apple Daily            -0.250000                0.425000  "
      ]
     },
     "execution_count": 347,
     "metadata": {},
     "output_type": "execute_result"
    }
   ],
   "source": [
    "#We need to remove 4* value from our Translated_Review column\n",
    "playr[playr.index.str.startswith('Apple')]"
   ]
  },
  {
   "cell_type": "code",
   "execution_count": 348,
   "id": "87383a50",
   "metadata": {},
   "outputs": [
    {
     "data": {
      "text/plain": [
       "App\n",
       "Apple Daily     4☆\n",
       "Name: Translated_Review, dtype: object"
      ]
     },
     "execution_count": 348,
     "metadata": {},
     "output_type": "execute_result"
    }
   ],
   "source": [
    "playr[\"Translated_Review\"].loc[playr[\"Translated_Review\"]== \"4☆\"]"
   ]
  },
  {
   "cell_type": "code",
   "execution_count": 349,
   "id": "2e406821",
   "metadata": {},
   "outputs": [],
   "source": [
    "#Lets convert again to normal index so that we can remove one redudant raw\n",
    "playr.reset_index(inplace = True)"
   ]
  },
  {
   "cell_type": "code",
   "execution_count": 350,
   "id": "4b8e5d8d",
   "metadata": {},
   "outputs": [
    {
     "data": {
      "text/plain": [
       "4323    4☆\n",
       "Name: Translated_Review, dtype: object"
      ]
     },
     "execution_count": 350,
     "metadata": {},
     "output_type": "execute_result"
    }
   ],
   "source": [
    "#lets find the index number for this row\n",
    "playr[\"Translated_Review\"].loc[playr[\"Translated_Review\"]== \"4☆\"]"
   ]
  },
  {
   "cell_type": "code",
   "execution_count": 351,
   "id": "fdea1c5c",
   "metadata": {},
   "outputs": [
    {
     "data": {
      "text/plain": [
       "541    591\n",
       "542    591\n",
       "543    591\n",
       "544    591\n",
       "545    591\n",
       "546    591\n",
       "547    591\n",
       "548    591\n",
       "549    591\n",
       "550    591\n",
       "551    591\n",
       "552    591\n",
       "553    591\n",
       "554    591\n",
       "555    591\n",
       "556    591\n",
       "557    591\n",
       "558    591\n",
       "559    591\n",
       "560    591\n",
       "561    591\n",
       "562    591\n",
       "563    591\n",
       "564    591\n",
       "Name: App, dtype: object"
      ]
     },
     "execution_count": 351,
     "metadata": {},
     "output_type": "execute_result"
    }
   ],
   "source": [
    "playr[\"App\"].loc[playr[\"App\"]== \"591\"]"
   ]
  },
  {
   "cell_type": "code",
   "execution_count": 352,
   "id": "a104e899",
   "metadata": {},
   "outputs": [],
   "source": [
    "#Drop all the redudant rows\n",
    "playr.drop(index=14936, axis=0, inplace=True)\n",
    "playr.drop(index=16541, axis=0, inplace=True)\n",
    "playr.drop(index=543, axis=0, inplace=True)\n",
    "playr.drop(index=4323, axis=0, inplace=True)\n",
    "playr.drop(index=5942, axis=0, inplace=True)\n",
    "playr.drop(index=3373, axis=0, inplace=True)\n",
    "playr.drop(index=1162, axis=0, inplace=True)"
   ]
  },
  {
   "cell_type": "code",
   "execution_count": 353,
   "id": "5a3e6a4e",
   "metadata": {},
   "outputs": [
    {
     "data": {
      "text/plain": [
       "array(['Positive', 'Neutral', 'Negative'], dtype=object)"
      ]
     },
     "execution_count": 353,
     "metadata": {},
     "output_type": "execute_result"
    }
   ],
   "source": [
    "#Cleaning Sentiment column\n",
    "playr[\"Sentiment\"].unique()\n"
   ]
  },
  {
   "cell_type": "code",
   "execution_count": 354,
   "id": "43b363bc",
   "metadata": {},
   "outputs": [
    {
     "data": {
      "text/plain": [
       "0"
      ]
     },
     "execution_count": 354,
     "metadata": {},
     "output_type": "execute_result"
    }
   ],
   "source": [
    "playr[\"Sentiment\"].isnull().sum()"
   ]
  },
  {
   "cell_type": "code",
   "execution_count": 355,
   "id": "25ed19e5",
   "metadata": {},
   "outputs": [
    {
     "data": {
      "text/plain": [
       "array([ 1.        ,  0.25      ,  0.4       , ..., -0.52857143,\n",
       "       -0.37777778,  0.17333333])"
      ]
     },
     "execution_count": 355,
     "metadata": {},
     "output_type": "execute_result"
    }
   ],
   "source": [
    "#Cleaning Sentiment polarity\n",
    "#Checking irrelevant values\n",
    "playr[\"Sentiment_Polarity\"].unique()"
   ]
  },
  {
   "cell_type": "code",
   "execution_count": 356,
   "id": "ffdfad80",
   "metadata": {},
   "outputs": [
    {
     "data": {
      "text/plain": [
       "0"
      ]
     },
     "execution_count": 356,
     "metadata": {},
     "output_type": "execute_result"
    }
   ],
   "source": [
    "playr[\"Sentiment_Polarity\"].isnull().sum()"
   ]
  },
  {
   "cell_type": "code",
   "execution_count": 357,
   "id": "fdeb349b",
   "metadata": {},
   "outputs": [
    {
     "data": {
      "text/plain": [
       "array([0.53333333, 0.28846154, 0.875     , ..., 0.51145833, 0.7172619 ,\n",
       "       0.2594697 ])"
      ]
     },
     "execution_count": 357,
     "metadata": {},
     "output_type": "execute_result"
    }
   ],
   "source": [
    "#Cleaning Sentiment_Subjectivity\n",
    "#Checking irrelevant values\n",
    "playr[\"Sentiment_Subjectivity\"].unique()"
   ]
  },
  {
   "cell_type": "code",
   "execution_count": 358,
   "id": "fff5c291",
   "metadata": {},
   "outputs": [
    {
     "data": {
      "text/plain": [
       "0"
      ]
     },
     "execution_count": 358,
     "metadata": {},
     "output_type": "execute_result"
    }
   ],
   "source": [
    "playr[\"Sentiment_Subjectivity\"].isnull().sum()"
   ]
  },
  {
   "cell_type": "code",
   "execution_count": 359,
   "id": "70ad1133",
   "metadata": {},
   "outputs": [],
   "source": [
    "#Saving file to csv\n",
    "playr.to_csv(r'D:\\playstore_Live_Project\\playstoreliveproj\\Cleaned_Playstore_reviews.csv',index=False)"
   ]
  },
  {
   "cell_type": "code",
   "execution_count": null,
   "id": "173c72f0",
   "metadata": {},
   "outputs": [],
   "source": []
  }
 ],
 "metadata": {
  "kernelspec": {
   "display_name": "Python 3 (ipykernel)",
   "language": "python",
   "name": "python3"
  },
  "language_info": {
   "codemirror_mode": {
    "name": "ipython",
    "version": 3
   },
   "file_extension": ".py",
   "mimetype": "text/x-python",
   "name": "python",
   "nbconvert_exporter": "python",
   "pygments_lexer": "ipython3",
   "version": "3.8.11"
  }
 },
 "nbformat": 4,
 "nbformat_minor": 5
}
